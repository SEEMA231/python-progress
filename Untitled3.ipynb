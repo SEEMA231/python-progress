{
 "cells": [
  {
   "cell_type": "code",
   "execution_count": 13,
   "id": "3b3f78cd-9d5e-4179-b3bf-062eeabb302c",
   "metadata": {},
   "outputs": [
    {
     "data": {
      "text/plain": [
       "'Q1. What is Flask Framework? What are the advantages of Flask Framework?'"
      ]
     },
     "execution_count": 13,
     "metadata": {},
     "output_type": "execute_result"
    }
   ],
   "source": [
    "\"Q1. What is Flask Framework? What are the advantages of Flask Framework?\""
   ]
  },
  {
   "cell_type": "code",
   "execution_count": 14,
   "id": "e5865847-d1af-40de-a484-6133f7933d00",
   "metadata": {},
   "outputs": [],
   "source": [
    "#Flask Framework:\n",
    "\n",
    "#Flask is a lightweight and extensible web framework for Python.\n",
    "#It simplifies web development by providing tools, libraries, and conventions for building web applications.\n",
    "\n",
    "#Lightweight: Minimalistic and easy to use.\n",
    "#Flexibility: Allows developers to choose components and libraries as needed.\n",
    "#Werkzeug and Jinja: Built on Werkzeug (WSGI toolkit) and Jinja (template engine).\n",
    "#Extensibility: Easily extendable with various plugins.\n",
    "#RESTful Support: Supports building RESTful APIs.\n",
    "#Easy to Learn: Low learning curve, making it beginner-friendly."
   ]
  },
  {
   "cell_type": "code",
   "execution_count": 15,
   "id": "59805752-3d6f-44f0-8e20-f2ccbb51f8f1",
   "metadata": {},
   "outputs": [
    {
     "data": {
      "text/plain": [
       "'Q2. Create a simple Flask application to display ‘Hello World!!’. Attach the screenshot of the output in Jupyter Notebook.'"
      ]
     },
     "execution_count": 15,
     "metadata": {},
     "output_type": "execute_result"
    }
   ],
   "source": [
    "\"Q2. Create a simple Flask application to display ‘Hello World!!’. Attach the screenshot of the output in Jupyter Notebook.\""
   ]
  },
  {
   "cell_type": "code",
   "execution_count": 16,
   "id": "c08c56cc-4780-4c87-871a-cfec0f6d0c84",
   "metadata": {},
   "outputs": [
    {
     "name": "stdout",
     "output_type": "stream",
     "text": [
      "Requirement already satisfied: flask in c:\\users\\admin\\appdata\\local\\packages\\pythonsoftwarefoundation.python.3.11_qbz5n2kfra8p0\\localcache\\local-packages\\python311\\site-packages (3.0.2)\n",
      "Requirement already satisfied: Werkzeug>=3.0.0 in c:\\users\\admin\\appdata\\local\\packages\\pythonsoftwarefoundation.python.3.11_qbz5n2kfra8p0\\localcache\\local-packages\\python311\\site-packages (from flask) (3.0.1)\n",
      "Requirement already satisfied: Jinja2>=3.1.2 in c:\\users\\admin\\appdata\\local\\packages\\pythonsoftwarefoundation.python.3.11_qbz5n2kfra8p0\\localcache\\local-packages\\python311\\site-packages (from flask) (3.1.3)\n",
      "Requirement already satisfied: itsdangerous>=2.1.2 in c:\\users\\admin\\appdata\\local\\packages\\pythonsoftwarefoundation.python.3.11_qbz5n2kfra8p0\\localcache\\local-packages\\python311\\site-packages (from flask) (2.1.2)\n",
      "Requirement already satisfied: click>=8.1.3 in c:\\users\\admin\\appdata\\local\\packages\\pythonsoftwarefoundation.python.3.11_qbz5n2kfra8p0\\localcache\\local-packages\\python311\\site-packages (from flask) (8.1.7)\n",
      "Requirement already satisfied: blinker>=1.6.2 in c:\\users\\admin\\appdata\\local\\packages\\pythonsoftwarefoundation.python.3.11_qbz5n2kfra8p0\\localcache\\local-packages\\python311\\site-packages (from flask) (1.7.0)\n",
      "Requirement already satisfied: colorama in c:\\users\\admin\\appdata\\local\\packages\\pythonsoftwarefoundation.python.3.11_qbz5n2kfra8p0\\localcache\\local-packages\\python311\\site-packages (from click>=8.1.3->flask) (0.4.6)\n",
      "Requirement already satisfied: MarkupSafe>=2.0 in c:\\users\\admin\\appdata\\local\\packages\\pythonsoftwarefoundation.python.3.11_qbz5n2kfra8p0\\localcache\\local-packages\\python311\\site-packages (from Jinja2>=3.1.2->flask) (2.1.5)\n",
      "Note: you may need to restart the kernel to use updated packages.\n"
     ]
    }
   ],
   "source": [
    "pip install flask"
   ]
  },
  {
   "cell_type": "code",
   "execution_count": 17,
   "id": "0590f019-ad5a-4a67-a58f-e8819fe4ac74",
   "metadata": {},
   "outputs": [
    {
     "name": "stdout",
     "output_type": "stream",
     "text": [
      " * Serving Flask app '__main__'\n",
      " * Debug mode: off\n"
     ]
    },
    {
     "name": "stderr",
     "output_type": "stream",
     "text": [
      "WARNING: This is a development server. Do not use it in a production deployment. Use a production WSGI server instead.\n",
      " * Running on http://127.0.0.1:5000\n",
      "Press CTRL+C to quit\n"
     ]
    }
   ],
   "source": [
    "from flask import Flask\n",
    "\n",
    "app = Flask(__name__)\n",
    "\n",
    "@app.route('/')\n",
    "def hello_world():\n",
    "    return 'Hello World!!'\n",
    "\n",
    "if __name__ == '__main__':\n",
    "    app.run()\n"
   ]
  },
  {
   "cell_type": "code",
   "execution_count": 18,
   "id": "523d72a8-1af5-4e46-ac5b-618383e31ca3",
   "metadata": {},
   "outputs": [
    {
     "data": {
      "text/plain": [
       "'Q3. What is App routing in Flask? Why do we use app routes?'"
      ]
     },
     "execution_count": 18,
     "metadata": {},
     "output_type": "execute_result"
    }
   ],
   "source": [
    "\"Q3. What is App routing in Flask? Why do we use app routes?\""
   ]
  },
  {
   "cell_type": "code",
   "execution_count": 19,
   "id": "c6dd247a-a1ee-4244-b901-cdf8fd800721",
   "metadata": {},
   "outputs": [],
   "source": [
    "#App Routing in Flask:\n",
    "\n",
    "#App routing in Flask refers to the mechanism of associating URLs (Uniform Resource Locators) with specific functions or views in a Flask application.\n",
    "#Why Use App Routes:\n",
    "\n",
    "#URL Mapping: Associates specific URLs with corresponding functions or views in the application.\n",
    "#Request Handling: Defines how the application responds to different HTTP requests (GET, POST, etc.) on specific routes.\n",
    "#Modularization: Organizes code by separating functionality into distinct views based on routes.\n",
    "#Clear Structure: Improves the readability and maintainability of the code by providing a clear structure for handling different parts of the application."
   ]
  },
  {
   "cell_type": "code",
   "execution_count": 20,
   "id": "94006e95-d088-48c8-a5f8-beb82d72cfef",
   "metadata": {},
   "outputs": [
    {
     "data": {
      "text/plain": [
       "'Q4. Create a “/welcome” route to display the welcome message “Welcome to ABC Corporation” and a “/”\\nroute to show the following details:\\nCompany Name: ABC Corporation\\nLocation: India\\nContact Detail: 999-999-9999'"
      ]
     },
     "execution_count": 20,
     "metadata": {},
     "output_type": "execute_result"
    }
   ],
   "source": [
    "'''Q4. Create a “/welcome” route to display the welcome message “Welcome to ABC Corporation” and a “/”\n",
    "route to show the following details:\n",
    "Company Name: ABC Corporation\n",
    "Location: India\n",
    "Contact Detail: 999-999-9999'''"
   ]
  },
  {
   "cell_type": "code",
   "execution_count": 21,
   "id": "ad3d13f6-9b61-4244-97ee-702497f3a260",
   "metadata": {},
   "outputs": [
    {
     "data": {
      "text/plain": [
       "'**App Routing in Flask:**\\n- App routing in Flask refers to the mechanism of associating URLs (Uniform Resource Locators) with specific functions or views in a Flask application.\\n\\n**Why Use App Routes:**\\n- **URL Mapping:** Associates specific URLs with corresponding functions or views in the application.\\n- **Request Handling:** Defines how the application responds to different HTTP requests (GET, POST, etc.) on specific routes.\\n- **Modularization:** Organizes code by separating functionality into distinct views based on routes.\\n- **Clear Structure:** Improves the readability and maintainability of the code by providing a clear structure for handling different parts of the application.'"
      ]
     },
     "execution_count": 21,
     "metadata": {},
     "output_type": "execute_result"
    }
   ],
   "source": [
    "'''**App Routing in Flask:**\n",
    "- App routing in Flask refers to the mechanism of associating URLs (Uniform Resource Locators) with specific functions or views in a Flask application.\n",
    "\n",
    "**Why Use App Routes:**\n",
    "- **URL Mapping:** Associates specific URLs with corresponding functions or views in the application.\n",
    "- **Request Handling:** Defines how the application responds to different HTTP requests (GET, POST, etc.) on specific routes.\n",
    "- **Modularization:** Organizes code by separating functionality into distinct views based on routes.\n",
    "- **Clear Structure:** Improves the readability and maintainability of the code by providing a clear structure for handling different parts of the application.'''"
   ]
  },
  {
   "cell_type": "code",
   "execution_count": 22,
   "id": "97320f3b-da0c-45f4-873f-cad03ccc3491",
   "metadata": {},
   "outputs": [
    {
     "name": "stdout",
     "output_type": "stream",
     "text": [
      " * Serving Flask app '__main__'\n",
      " * Debug mode: off\n"
     ]
    },
    {
     "name": "stderr",
     "output_type": "stream",
     "text": [
      "WARNING: This is a development server. Do not use it in a production deployment. Use a production WSGI server instead.\n",
      " * Running on http://127.0.0.1:5000\n",
      "Press CTRL+C to quit\n"
     ]
    }
   ],
   "source": [
    "from flask import Flask\n",
    "\n",
    "app = Flask(__name__)\n",
    "\n",
    "@app.route('/welcome')\n",
    "def welcome():\n",
    "    return 'Welcome to ABC Corporation'\n",
    "\n",
    "@app.route('/')\n",
    "def company_details():\n",
    "    return '''\n",
    "    Company Name: ABC Corporation\n",
    "    Location: India\n",
    "    Contact Detail: 999-999-9999\n",
    "    '''\n",
    "\n",
    "if __name__ == '__main__':\n",
    "    app.run()"
   ]
  },
  {
   "cell_type": "code",
   "execution_count": 23,
   "id": "c56b55e1",
   "metadata": {},
   "outputs": [
    {
     "data": {
      "text/plain": [
       "'Q5. What function is used in Flask for URL Building? Write a Python code to demonstrate the working of the url_for() function.'"
      ]
     },
     "execution_count": 23,
     "metadata": {},
     "output_type": "execute_result"
    }
   ],
   "source": [
    "\"Q5. What function is used in Flask for URL Building? Write a Python code to demonstrate the working of the url_for() function.\""
   ]
  },
  {
   "cell_type": "code",
   "execution_count": 12,
   "id": "9a8c3dfb-377a-43f6-bfb2-2197431c2892",
   "metadata": {},
   "outputs": [
    {
     "name": "stdout",
     "output_type": "stream",
     "text": [
      "URL for home: /\n",
      "URL for about: /about\n"
     ]
    }
   ],
   "source": [
    "from flask import Flask, url_for\n",
    "\n",
    "app = Flask(__name__)\n",
    "\n",
    "@app.route('/')\n",
    "def home():\n",
    "    return 'Home Page'\n",
    "\n",
    "@app.route('/about')\n",
    "def about():\n",
    "    return 'About Page'\n",
    "\n",
    "if __name__ == '__main__':\n",
    "    with app.test_request_context():\n",
    "        # Demonstrating url_for function\n",
    "        home_url = url_for('home')\n",
    "        about_url = url_for('about')\n",
    "        \n",
    "        print(f'URL for home: {home_url}')\n",
    "        print(f'URL for about: {about_url}')\n"
   ]
  },
  {
   "cell_type": "code",
   "execution_count": null,
   "id": "42cfb372-f705-43e2-b9f9-88b4b284b35a",
   "metadata": {},
   "outputs": [],
   "source": []
  }
 ],
 "metadata": {
  "kernelspec": {
   "display_name": "Python 3 (ipykernel)",
   "language": "python",
   "name": "python3"
  },
  "language_info": {
   "codemirror_mode": {
    "name": "ipython",
    "version": 3
   },
   "file_extension": ".py",
   "mimetype": "text/x-python",
   "name": "python",
   "nbconvert_exporter": "python",
   "pygments_lexer": "ipython3",
   "version": "3.11.8"
  }
 },
 "nbformat": 4,
 "nbformat_minor": 5
}
