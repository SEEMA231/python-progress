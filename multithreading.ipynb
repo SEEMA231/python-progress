{
 "cells": [
  {
   "cell_type": "code",
   "execution_count": 1,
   "id": "ef5219d9-6682-46f5-ad83-a2dc8be44df1",
   "metadata": {},
   "outputs": [
    {
     "data": {
      "text/plain": [
       "'Q1 what is multithreading in python? why is it used? Name the module used to handle threads in python'"
      ]
     },
     "execution_count": 1,
     "metadata": {},
     "output_type": "execute_result"
    }
   ],
   "source": [
    "\"Q1 what is multithreading in python? why is it used? Name the module used to handle threads in python\""
   ]
  },
  {
   "cell_type": "code",
   "execution_count": 2,
   "id": "bb39d825-59d5-4f30-b58d-afba50b111b6",
   "metadata": {},
   "outputs": [
    {
     "data": {
      "text/plain": [
       "'Multithreading in Python refers to the concurrent execution of multiple threads within a single program. It is used to improve performance by allowing parallel execution of tasks, particularly in scenarios where tasks can run independently. The threading module is commonly used to handle threads in Python.'"
      ]
     },
     "execution_count": 2,
     "metadata": {},
     "output_type": "execute_result"
    }
   ],
   "source": [
    "\"Multithreading in Python refers to the concurrent execution of multiple threads within a single program. It is used to improve performance by allowing parallel execution of tasks, particularly in scenarios where tasks can run independently. The threading module is commonly used to handle threads in Python.\""
   ]
  },
  {
   "cell_type": "code",
   "execution_count": 3,
   "id": "982f1560-491f-4afc-b6e0-813e6ef4e0a2",
   "metadata": {},
   "outputs": [
    {
     "data": {
      "text/plain": [
       "'Q2 why threading module used? write the use of the following functions -activeCount() -currentThread() -enumerate()'"
      ]
     },
     "execution_count": 3,
     "metadata": {},
     "output_type": "execute_result"
    }
   ],
   "source": [
    "\"Q2 why threading module used? write the use of the following functions -activeCount() -currentThread() -enumerate()\""
   ]
  },
  {
   "cell_type": "code",
   "execution_count": 4,
   "id": "0bc28cf4-242e-48ac-b0b6-d4f4eab58b9b",
   "metadata": {},
   "outputs": [
    {
     "data": {
      "text/plain": [
       "'The threading module in Python is used to create and manage threads. Threads allow concurrent execution of tasks, enabling better utilization of resources and improved performance. Here are explanations for the mentioned functions:'"
      ]
     },
     "execution_count": 4,
     "metadata": {},
     "output_type": "execute_result"
    }
   ],
   "source": [
    "\"The threading module in Python is used to create and manage threads. Threads allow concurrent execution of tasks, enabling better utilization of resources and improved performance. Here are explanations for the mentioned functions:\""
   ]
  },
  {
   "cell_type": "code",
   "execution_count": 5,
   "id": "c788ace4-f2d4-4607-ba43-2e0f534b6042",
   "metadata": {},
   "outputs": [
    {
     "name": "stdout",
     "output_type": "stream",
     "text": [
      "example of active_count\n",
      "Number of active threads: 8\n"
     ]
    }
   ],
   "source": [
    "#active_count\n",
    "import threading\n",
    "def my_function():\n",
    "    print(\"example of active_count\")\n",
    "# Creating and starting threads\n",
    "thread1 = threading.Thread(target=my_function)\n",
    "\n",
    "thread1.start()\n",
    "\n",
    "# Getting the number of active threads\n",
    "active_threads = threading.active_count()\n",
    "print(f\"Number of active threads: {active_threads}\")\n"
   ]
  },
  {
   "cell_type": "code",
   "execution_count": 6,
   "id": "327b744b-be00-4114-9614-1dddd4257577",
   "metadata": {},
   "outputs": [
    {
     "name": "stdout",
     "output_type": "stream",
     "text": [
      "Current Thread: Thread-6 (print_current_thread)\n"
     ]
    }
   ],
   "source": [
    "#current thread\n",
    "import threading\n",
    "\n",
    "def print_current_thread():\n",
    "    current_thread = threading.current_thread()\n",
    "    print(f\"Current Thread: {current_thread.name}\")\n",
    "\n",
    "# Creating and starting a thread\n",
    "my_thread = threading.Thread(target=print_current_thread)\n",
    "my_thread.start()\n"
   ]
  },
  {
   "cell_type": "code",
   "execution_count": 7,
   "id": "adc6e0ff-707e-4569-9909-fd7d1a78064c",
   "metadata": {},
   "outputs": [
    {
     "name": "stdout",
     "output_type": "stream",
     "text": [
      "Thread is running...\n",
      "Thread is running...\n",
      "All active threads: [<_MainThread(MainThread, started 140259466872640)>, <Thread(IOPub, started daemon 140259396343360)>, <Heartbeat(Heartbeat, started daemon 140259387950656)>, <Thread(Thread-3 (_watch_pipe_fd), started daemon 140259362772544)>, <Thread(Thread-4 (_watch_pipe_fd), started daemon 140259354379840)>, <ControlThread(Control, started daemon 140259002152512)>, <HistorySavingThread(IPythonHistorySavingThread, started 140258993759808)>, <ParentPollerUnix(Thread-2, started daemon 140258985367104)>]\n"
     ]
    }
   ],
   "source": [
    "#Enumerate\n",
    "import threading\n",
    "\n",
    "def my_function():\n",
    "    print(\"Thread is running...\")\n",
    "\n",
    "# Creating and starting threads\n",
    "thread1 = threading.Thread(target=my_function)\n",
    "thread2 = threading.Thread(target=my_function)\n",
    "\n",
    "thread1.start()\n",
    "thread2.start()\n",
    "\n",
    "# Enumerating all active threads\n",
    "all_threads = threading.enumerate()\n",
    "print(f\"All active threads: {all_threads}\")\n"
   ]
  },
  {
   "cell_type": "code",
   "execution_count": 8,
   "id": "88e46927-661a-4f91-9324-3d0765207e3d",
   "metadata": {},
   "outputs": [
    {
     "data": {
      "text/plain": [
       "'Q3 3. Explain the following functions -run() -start() -join() -isAlive()'"
      ]
     },
     "execution_count": 8,
     "metadata": {},
     "output_type": "execute_result"
    }
   ],
   "source": [
    "\"Q3 3. Explain the following functions -run() -start() -join() -isAlive()\""
   ]
  },
  {
   "cell_type": "code",
   "execution_count": 9,
   "id": "33901cfa-f225-4974-b01d-5164e2ab515a",
   "metadata": {},
   "outputs": [
    {
     "name": "stdout",
     "output_type": "stream",
     "text": [
      "Thread is running...\n"
     ]
    }
   ],
   "source": [
    "import threading\n",
    "\n",
    "class MyThread(threading.Thread):\n",
    "    def run(self):\n",
    "        print(\"Thread is running...\")\n",
    "\n",
    "# Creating and starting the thread\n",
    "my_thread = MyThread()\n",
    "my_thread.start()"
   ]
  },
  {
   "cell_type": "code",
   "execution_count": 10,
   "id": "f763a6ef-06f3-45d7-a6dd-1a89b227b50c",
   "metadata": {},
   "outputs": [
    {
     "name": "stdout",
     "output_type": "stream",
     "text": [
      "Thread is running...\n"
     ]
    }
   ],
   "source": [
    "import threading\n",
    "\n",
    "def my_function():\n",
    "    print(\"Thread is running...\")\n",
    "\n",
    "# Creating and starting the thread\n",
    "my_thread = threading.Thread(target=my_function)\n",
    "my_thread.start()\n"
   ]
  },
  {
   "cell_type": "code",
   "execution_count": 11,
   "id": "2190115f-f68b-43db-97cd-219143a36085",
   "metadata": {},
   "outputs": [
    {
     "name": "stdout",
     "output_type": "stream",
     "text": [
      "Thread has finished its work.\n",
      "Main thread continues after the joined thread.\n"
     ]
    }
   ],
   "source": [
    "import threading\n",
    "import time\n",
    "\n",
    "def my_function():\n",
    "    time.sleep(2)\n",
    "    print(\"Thread has finished its work.\")\n",
    "\n",
    "# Creating and starting the thread\n",
    "my_thread = threading.Thread(target=my_function)\n",
    "my_thread.start()\n",
    "\n",
    "# Waiting for the thread to finish\n",
    "my_thread.join()\n",
    "print(\"Main thread continues after the joined thread.\")\n"
   ]
  },
  {
   "cell_type": "code",
   "execution_count": 12,
   "id": "8e6e978e-3174-42ac-a26a-47565d76764e",
   "metadata": {},
   "outputs": [
    {
     "name": "stdout",
     "output_type": "stream",
     "text": [
      "Thread is alive.\n"
     ]
    }
   ],
   "source": [
    "import threading\n",
    "import time\n",
    "\n",
    "def my_function():\n",
    "    time.sleep(2)\n",
    "    print(\"Thread is finishing...\")\n",
    "\n",
    "# Creating and starting the thread\n",
    "my_thread = threading.Thread(target=my_function)\n",
    "my_thread.start()\n",
    "\n",
    "# Checking if the thread is alive\n",
    "if my_thread.is_alive():\n",
    "    print(\"Thread is alive.\")\n",
    "else:\n",
    "    print(\"Thread has finished.\")\n"
   ]
  },
  {
   "cell_type": "code",
   "execution_count": 13,
   "id": "7126f0c0-7847-4bda-8935-2a1ebf4c975c",
   "metadata": {},
   "outputs": [
    {
     "data": {
      "text/plain": [
       "'4. write a python program to create two threads. Thread one must print the list of squares and thread two must print the list of cubes'"
      ]
     },
     "execution_count": 13,
     "metadata": {},
     "output_type": "execute_result"
    }
   ],
   "source": [
    "\"4. write a python program to create two threads. Thread one must print the list of squares and thread two must print the list of cubes\""
   ]
  },
  {
   "cell_type": "code",
   "execution_count": 14,
   "id": "c24c18e2-d5de-4d55-a677-668ad129940b",
   "metadata": {},
   "outputs": [],
   "source": [
    "import threading\n",
    "\n",
    "number=[1,2,3,4,5,6,7,8,9]\n",
    "def square(number):\n",
    "    for i in number:\n",
    "        square=i**2\n",
    "        print(f\"this is my square :{square}\")\n",
    "\n",
    "def cube(number):\n",
    "    for i in number:\n",
    "        cube=i**3\n",
    "        print(f\"this is my cube :{cube}\")\n",
    "\n",
    "result1 = [threading.Thread(target=square , args=(number,))]\n",
    "result2 = [threading.Thread(target=cube , args=(number,))]\n",
    "\n"
   ]
  },
  {
   "cell_type": "code",
   "execution_count": 15,
   "id": "1263351d-c98b-45a8-8072-aaade19cd4e6",
   "metadata": {},
   "outputs": [
    {
     "name": "stdout",
     "output_type": "stream",
     "text": [
      "this is my square :1\n",
      "this is my square :4\n",
      "this is my square :9\n",
      "this is my square :16\n",
      "this is my square :25\n",
      "this is my square :36\n",
      "this is my square :49\n",
      "this is my square :64\n",
      "this is my square :81\n"
     ]
    }
   ],
   "source": [
    "for t in result1:\n",
    "    t.start()"
   ]
  },
  {
   "cell_type": "code",
   "execution_count": 16,
   "id": "e2e932fe-d8ec-47ed-b172-c3bdb05dc1b7",
   "metadata": {},
   "outputs": [
    {
     "name": "stdout",
     "output_type": "stream",
     "text": [
      "this is my cube :1\n",
      "this is my cube :8\n",
      "this is my cube :27\n",
      "this is my cube :64\n",
      "this is my cube :125\n",
      "this is my cube :216\n",
      "this is my cube :343\n",
      "this is my cube :512\n",
      "this is my cube :729\n"
     ]
    }
   ],
   "source": [
    "for t in result2:\n",
    "    t.start()"
   ]
  },
  {
   "cell_type": "code",
   "execution_count": 17,
   "id": "8190a604-8d00-45c2-9df5-30074781fa99",
   "metadata": {},
   "outputs": [
    {
     "data": {
      "text/plain": [
       "'Q5. State advantages and disadvantages of multithreading'"
      ]
     },
     "execution_count": 17,
     "metadata": {},
     "output_type": "execute_result"
    }
   ],
   "source": [
    "\"Q5. State advantages and disadvantages of multithreading\""
   ]
  },
  {
   "cell_type": "code",
   "execution_count": 18,
   "id": "5ec7d4a1-8f96-4201-a0c2-4f29d03c8b4c",
   "metadata": {},
   "outputs": [],
   "source": [
    "#Advantages of Multithreading:\n",
    "#1. Improved Performance\n",
    "#2. Resource Sharing\n",
    "#3. Responsiveness\n",
    "#4. Parallelism\n",
    "#5. Enhanced Throughput\n",
    "\n",
    "#Disadvantages of Multithreading:\n",
    "#1. Complexity\n",
    "#2. Synchronization Issues\n",
    "#3. Increased Resource Overhead\n",
    "#4. Difficulty in Debugging\n",
    "#5. Potential for Deadlocks"
   ]
  },
  {
   "cell_type": "code",
   "execution_count": 19,
   "id": "cfdec01b-9065-4887-b1c4-665238b76672",
   "metadata": {},
   "outputs": [
    {
     "data": {
      "text/plain": [
       "'Q6. Explain deadlocks and race conditions.'"
      ]
     },
     "execution_count": 19,
     "metadata": {},
     "output_type": "execute_result"
    },
    {
     "name": "stdout",
     "output_type": "stream",
     "text": [
      "Thread is finishing...\n"
     ]
    }
   ],
   "source": [
    "\"Q6. Explain deadlocks and race conditions.\""
   ]
  },
  {
   "cell_type": "code",
   "execution_count": 22,
   "id": "ad1faba0-bcbc-470a-9daf-b70343f6fa4c",
   "metadata": {},
   "outputs": [
    {
     "name": "stdout",
     "output_type": "stream",
     "text": [
      "final value number 90\n"
     ]
    }
   ],
   "source": [
    "import threading\n",
    "number=0\n",
    "def increment():\n",
    "    global number\n",
    "    for _ in range(100):\n",
    "        number+=1\n",
    "            \n",
    "def decrease():\n",
    "    global number\n",
    "    for _ in range(10):\n",
    "        number-=1\n",
    "\n",
    "t1=threading.Thread(target=increment)\n",
    "t2=threading.Thread(target=decrease)  \n",
    "t1.start()\n",
    "t2.start()\n",
    "\n",
    "t1.join()\n",
    "t2.join()\n",
    "\n",
    "print(\"final value number\", number)"
   ]
  },
  {
   "cell_type": "code",
   "execution_count": null,
   "id": "f70a7c2b-4c81-409a-8837-4b27bdce7995",
   "metadata": {},
   "outputs": [],
   "source": []
  }
 ],
 "metadata": {
  "kernelspec": {
   "display_name": "Python 3 (ipykernel)",
   "language": "python",
   "name": "python3"
  },
  "language_info": {
   "codemirror_mode": {
    "name": "ipython",
    "version": 3
   },
   "file_extension": ".py",
   "mimetype": "text/x-python",
   "name": "python",
   "nbconvert_exporter": "python",
   "pygments_lexer": "ipython3",
   "version": "3.10.8"
  }
 },
 "nbformat": 4,
 "nbformat_minor": 5
}
