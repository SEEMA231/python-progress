{
 "cells": [
  {
   "cell_type": "code",
   "execution_count": 1,
   "id": "3b3f78cd-9d5e-4179-b3bf-062eeabb302c",
   "metadata": {},
   "outputs": [
    {
     "data": {
      "text/plain": [
       "'Q1. What is Flask Framework? What are the advantages of Flask Framework?'"
      ]
     },
     "execution_count": 1,
     "metadata": {},
     "output_type": "execute_result"
    }
   ],
   "source": [
    "\"Q1. What is Flask Framework? What are the advantages of Flask Framework?\""
   ]
  },
  {
   "cell_type": "code",
   "execution_count": 2,
   "id": "e5865847-d1af-40de-a484-6133f7933d00",
   "metadata": {},
   "outputs": [],
   "source": [
    "#Flask Framework:\n",
    "\n",
    "#Flask is a lightweight and extensible web framework for Python.\n",
    "#It simplifies web development by providing tools, libraries, and conventions for building web applications.\n",
    "\n",
    "#Lightweight: Minimalistic and easy to use.\n",
    "#Flexibility: Allows developers to choose components and libraries as needed.\n",
    "#Werkzeug and Jinja: Built on Werkzeug (WSGI toolkit) and Jinja (template engine).\n",
    "#Extensibility: Easily extendable with various plugins.\n",
    "#RESTful Support: Supports building RESTful APIs.\n",
    "#Easy to Learn: Low learning curve, making it beginner-friendly."
   ]
  },
  {
   "cell_type": "code",
   "execution_count": 3,
   "id": "59805752-3d6f-44f0-8e20-f2ccbb51f8f1",
   "metadata": {},
   "outputs": [
    {
     "data": {
      "text/plain": [
       "'Q2. Create a simple Flask application to display ‘Hello World!!’. Attach the screenshot of the output in Jupyter Notebook.'"
      ]
     },
     "execution_count": 3,
     "metadata": {},
     "output_type": "execute_result"
    }
   ],
   "source": [
    "\"Q2. Create a simple Flask application to display ‘Hello World!!’. Attach the screenshot of the output in Jupyter Notebook.\""
   ]
  },
  {
   "cell_type": "code",
   "execution_count": 1,
   "id": "c08c56cc-4780-4c87-871a-cfec0f6d0c84",
   "metadata": {},
   "outputs": [
    {
     "name": "stdout",
     "output_type": "stream",
     "text": [
      "Requirement already satisfied: flask in /opt/conda/lib/python3.10/site-packages (3.0.2)\n",
      "Requirement already satisfied: click>=8.1.3 in /opt/conda/lib/python3.10/site-packages (from flask) (8.1.3)\n",
      "Requirement already satisfied: Werkzeug>=3.0.0 in /opt/conda/lib/python3.10/site-packages (from flask) (3.0.1)\n",
      "Requirement already satisfied: blinker>=1.6.2 in /opt/conda/lib/python3.10/site-packages (from flask) (1.7.0)\n",
      "Requirement already satisfied: itsdangerous>=2.1.2 in /opt/conda/lib/python3.10/site-packages (from flask) (2.1.2)\n",
      "Requirement already satisfied: Jinja2>=3.1.2 in /opt/conda/lib/python3.10/site-packages (from flask) (3.1.2)\n",
      "Requirement already satisfied: MarkupSafe>=2.0 in /opt/conda/lib/python3.10/site-packages (from Jinja2>=3.1.2->flask) (2.1.1)\n",
      "Note: you may need to restart the kernel to use updated packages.\n"
     ]
    }
   ],
   "source": [
    "pip install flask"
   ]
  },
  {
   "cell_type": "code",
   "execution_count": 1,
   "id": "0590f019-ad5a-4a67-a58f-e8819fe4ac74",
   "metadata": {},
   "outputs": [
    {
     "ename": "ModuleNotFoundError",
     "evalue": "No module named 'flask'",
     "output_type": "error",
     "traceback": [
      "\u001b[0;31m---------------------------------------------------------------------------\u001b[0m",
      "\u001b[0;31mModuleNotFoundError\u001b[0m                       Traceback (most recent call last)",
      "Cell \u001b[0;32mIn[1], line 1\u001b[0m\n\u001b[0;32m----> 1\u001b[0m \u001b[38;5;28;01mfrom\u001b[39;00m \u001b[38;5;21;01mflask\u001b[39;00m \u001b[38;5;28;01mimport\u001b[39;00m Flask\n\u001b[1;32m      3\u001b[0m app \u001b[38;5;241m=\u001b[39m Flask(\u001b[38;5;18m__name__\u001b[39m)\n\u001b[1;32m      5\u001b[0m \u001b[38;5;129m@app\u001b[39m\u001b[38;5;241m.\u001b[39mroute(\u001b[38;5;124m'\u001b[39m\u001b[38;5;124m/\u001b[39m\u001b[38;5;124m'\u001b[39m)\n\u001b[1;32m      6\u001b[0m \u001b[38;5;28;01mdef\u001b[39;00m \u001b[38;5;21mhello_world\u001b[39m():\n",
      "\u001b[0;31mModuleNotFoundError\u001b[0m: No module named 'flask'"
     ]
    }
   ],
   "source": [
    "from flask import Flask\n",
    "\n",
    "app = Flask(__name__)\n",
    "\n",
    "@app.route('/')\n",
    "def hello_world():\n",
    "    return 'Hello World!!'\n",
    "\n",
    "if __name__ == '__main__':\n",
    "    app.run()\n"
   ]
  },
  {
   "cell_type": "code",
   "execution_count": 2,
   "id": "523d72a8-1af5-4e46-ac5b-618383e31ca3",
   "metadata": {},
   "outputs": [
    {
     "data": {
      "text/plain": [
       "'Q3. What is App routing in Flask? Why do we use app routes?'"
      ]
     },
     "execution_count": 2,
     "metadata": {},
     "output_type": "execute_result"
    }
   ],
   "source": [
    "\"Q3. What is App routing in Flask? Why do we use app routes?\""
   ]
  },
  {
   "cell_type": "code",
   "execution_count": 3,
   "id": "c6dd247a-a1ee-4244-b901-cdf8fd800721",
   "metadata": {},
   "outputs": [],
   "source": [
    "#App Routing in Flask:\n",
    "\n",
    "#App routing in Flask refers to the mechanism of associating URLs (Uniform Resource Locators) with specific functions or views in a Flask application.\n",
    "#Why Use App Routes:\n",
    "\n",
    "#URL Mapping: Associates specific URLs with corresponding functions or views in the application.\n",
    "#Request Handling: Defines how the application responds to different HTTP requests (GET, POST, etc.) on specific routes.\n",
    "#Modularization: Organizes code by separating functionality into distinct views based on routes.\n",
    "#Clear Structure: Improves the readability and maintainability of the code by providing a clear structure for handling different parts of the application."
   ]
  },
  {
   "cell_type": "code",
   "execution_count": 4,
   "id": "94006e95-d088-48c8-a5f8-beb82d72cfef",
   "metadata": {},
   "outputs": [
    {
     "data": {
      "text/plain": [
       "'Q4. Create a “/welcome” route to display the welcome message “Welcome to ABC Corporation” and a “/”\\nroute to show the following details:\\nCompany Name: ABC Corporation\\nLocation: India\\nContact Detail: 999-999-9999'"
      ]
     },
     "execution_count": 4,
     "metadata": {},
     "output_type": "execute_result"
    }
   ],
   "source": [
    "'''Q4. Create a “/welcome” route to display the welcome message “Welcome to ABC Corporation” and a “/”\n",
    "route to show the following details:\n",
    "Company Name: ABC Corporation\n",
    "Location: India\n",
    "Contact Detail: 999-999-9999'''"
   ]
  },
  {
   "cell_type": "code",
   "execution_count": 5,
   "id": "ad3d13f6-9b61-4244-97ee-702497f3a260",
   "metadata": {},
   "outputs": [
    {
     "data": {
      "text/plain": [
       "'**App Routing in Flask:**\\n- App routing in Flask refers to the mechanism of associating URLs (Uniform Resource Locators) with specific functions or views in a Flask application.\\n\\n**Why Use App Routes:**\\n- **URL Mapping:** Associates specific URLs with corresponding functions or views in the application.\\n- **Request Handling:** Defines how the application responds to different HTTP requests (GET, POST, etc.) on specific routes.\\n- **Modularization:** Organizes code by separating functionality into distinct views based on routes.\\n- **Clear Structure:** Improves the readability and maintainability of the code by providing a clear structure for handling different parts of the application.'"
      ]
     },
     "execution_count": 5,
     "metadata": {},
     "output_type": "execute_result"
    }
   ],
   "source": [
    "'''**App Routing in Flask:**\n",
    "- App routing in Flask refers to the mechanism of associating URLs (Uniform Resource Locators) with specific functions or views in a Flask application.\n",
    "\n",
    "**Why Use App Routes:**\n",
    "- **URL Mapping:** Associates specific URLs with corresponding functions or views in the application.\n",
    "- **Request Handling:** Defines how the application responds to different HTTP requests (GET, POST, etc.) on specific routes.\n",
    "- **Modularization:** Organizes code by separating functionality into distinct views based on routes.\n",
    "- **Clear Structure:** Improves the readability and maintainability of the code by providing a clear structure for handling different parts of the application.'''"
   ]
  },
  {
   "cell_type": "code",
   "execution_count": 6,
   "id": "97320f3b-da0c-45f4-873f-cad03ccc3491",
   "metadata": {},
   "outputs": [
    {
     "ename": "ModuleNotFoundError",
     "evalue": "No module named 'flask'",
     "output_type": "error",
     "traceback": [
      "\u001b[0;31m---------------------------------------------------------------------------\u001b[0m",
      "\u001b[0;31mModuleNotFoundError\u001b[0m                       Traceback (most recent call last)",
      "Cell \u001b[0;32mIn[6], line 1\u001b[0m\n\u001b[0;32m----> 1\u001b[0m \u001b[38;5;28;01mfrom\u001b[39;00m \u001b[38;5;21;01mflask\u001b[39;00m \u001b[38;5;28;01mimport\u001b[39;00m Flask\n\u001b[1;32m      3\u001b[0m app \u001b[38;5;241m=\u001b[39m Flask(\u001b[38;5;18m__name__\u001b[39m)\n\u001b[1;32m      5\u001b[0m \u001b[38;5;129m@app\u001b[39m\u001b[38;5;241m.\u001b[39mroute(\u001b[38;5;124m'\u001b[39m\u001b[38;5;124m/welcome\u001b[39m\u001b[38;5;124m'\u001b[39m)\n\u001b[1;32m      6\u001b[0m \u001b[38;5;28;01mdef\u001b[39;00m \u001b[38;5;21mwelcome\u001b[39m():\n",
      "\u001b[0;31mModuleNotFoundError\u001b[0m: No module named 'flask'"
     ]
    }
   ],
   "source": [
    "from flask import Flask\n",
    "\n",
    "app = Flask(__name__)\n",
    "\n",
    "@app.route('/welcome')\n",
    "def welcome():\n",
    "    return 'Welcome to ABC Corporation'\n",
    "\n",
    "@app.route('/')\n",
    "def company_details():\n",
    "    return '''\n",
    "    Company Name: ABC Corporation\n",
    "    Location: India\n",
    "    Contact Detail: 999-999-9999\n",
    "    '''\n",
    "\n",
    "if __name__ == '__main__':\n",
    "    app.run()"
   ]
  },
  {
   "cell_type": "code",
   "execution_count": null,
   "id": "9a8c3dfb-377a-43f6-bfb2-2197431c2892",
   "metadata": {},
   "outputs": [],
   "source": []
  },
  {
   "cell_type": "code",
   "execution_count": null,
   "id": "42cfb372-f705-43e2-b9f9-88b4b284b35a",
   "metadata": {},
   "outputs": [],
   "source": []
  }
 ],
 "metadata": {
  "kernelspec": {
   "display_name": "Python 3 (ipykernel)",
   "language": "python",
   "name": "python3"
  },
  "language_info": {
   "codemirror_mode": {
    "name": "ipython",
    "version": 3
   },
   "file_extension": ".py",
   "mimetype": "text/x-python",
   "name": "python",
   "nbconvert_exporter": "python",
   "pygments_lexer": "ipython3",
   "version": "3.10.8"
  }
 },
 "nbformat": 4,
 "nbformat_minor": 5
}
