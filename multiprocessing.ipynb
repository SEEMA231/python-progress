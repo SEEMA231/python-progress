{
 "cells": [
  {
   "cell_type": "code",
   "execution_count": 1,
   "id": "e75c8029-8ff5-47b7-9466-2a096b83f8a8",
   "metadata": {},
   "outputs": [
    {
     "data": {
      "text/plain": [
       "'Q1. What is multiprocessing in python? Why is it useful?'"
      ]
     },
     "execution_count": 1,
     "metadata": {},
     "output_type": "execute_result"
    }
   ],
   "source": [
    "\"Q1. What is multiprocessing in python? Why is it useful?\""
   ]
  },
  {
   "cell_type": "code",
   "execution_count": 3,
   "id": "43247161-054c-47d6-965d-4976f640acc4",
   "metadata": {},
   "outputs": [],
   "source": [
    "#Multiprocessing in Python:\n",
    "\n",
    "#Definition: Multiprocessing in Python involves running multiple processes concurrently.\n",
    "#Usefulness:\n",
    "#Improved Performance:- Utilizes multiple CPU cores for parallel execution.\n",
    "#Resource Isolation:- Each process has its own memory space.\n",
    "#Fault Isolation:- One process failure doesn't affect others.\n",
    "#Scalability:- Scales well with increasing CPU cores.\n",
    "#Task Distribution:- Suitable for parallelizing computationally intensive tasks."
   ]
  },
  {
   "cell_type": "code",
   "execution_count": 4,
   "id": "e2247cd5-d401-445f-bcc8-90462d7e464c",
   "metadata": {},
   "outputs": [
    {
     "data": {
      "text/plain": [
       "'Q2. What are the differences between multiprocessing and multithreading?'"
      ]
     },
     "execution_count": 4,
     "metadata": {},
     "output_type": "execute_result"
    }
   ],
   "source": [
    "\"Q2. What are the differences between multiprocessing and multithreading?\""
   ]
  },
  {
   "cell_type": "code",
   "execution_count": 5,
   "id": "59519984-4243-41b1-b19e-4e71f8a31228",
   "metadata": {},
   "outputs": [],
   "source": [
    "# Differences Between Multiprocessing and Multithreading:\n",
    "# 1. Memory Usage:\n",
    "#    - Multiprocessing: Each process has its own memory space.\n",
    "#    - Multithreading: Threads share the same memory space.\n",
    "\n",
    "# 2. Concurrency:\n",
    "#    - Multiprocessing: Achieves concurrency through multiple processes.\n",
    "#    - Multithreading: Achieves concurrency through multiple threads within a process.\n",
    "\n",
    "# 3. Resource Sharing:\n",
    "#    - Multiprocessing: Processes have independent resources.\n",
    "#    - Multithreading: Threads share resources, which requires synchronization.\n",
    "\n",
    "# 4. Fault Isolation:\n",
    "#    - Multiprocessing: One process failure doesn't affect others.\n",
    "#    - Multithreading: A thread failure can potentially affect the entire process.\n",
    "\n",
    "# 5. Performance:\n",
    "#    - Multiprocessing: Suitable for CPU-bound tasks, takes advantage of multiple cores.\n",
    "#    - Multithreading: Suitable for I/O-bound tasks, may not fully utilize multiple cores.\n",
    "\n",
    "# 6. Complexity:\n",
    "#    - Multiprocessing: Generally less prone to synchronization issues, but inter-process communication may be more complex.\n",
    "#    - Multithreading: May be more prone to synchronization issues, but communication between threads is simpler.\n",
    "\n",
    "# 7. Scalability:\n",
    "#    - Multiprocessing: Scales well with increasing CPU cores.\n",
    "#    - Multithreading: Limited scalability due to the Global Interpreter Lock (GIL) in CPython.\n"
   ]
  },
  {
   "cell_type": "code",
   "execution_count": 6,
   "id": "2bfc6299-d76f-4dac-922c-2919daf79f6d",
   "metadata": {},
   "outputs": [
    {
     "data": {
      "text/plain": [
       "'Q3. Write a python code to create a process using the multiprocessing module.'"
      ]
     },
     "execution_count": 6,
     "metadata": {},
     "output_type": "execute_result"
    }
   ],
   "source": [
    "\"Q3. Write a python code to create a process using the multiprocessing module.\""
   ]
  },
  {
   "cell_type": "code",
   "execution_count": 9,
   "id": "6e3f856f-8650-4dc6-8d2f-149130e98191",
   "metadata": {},
   "outputs": [
    {
     "name": "stdout",
     "output_type": "stream",
     "text": [
      "1\n",
      "2\n",
      "3\n",
      "4\n",
      "5\n",
      "6\n",
      "7\n",
      "8\n",
      "9\n",
      "10\n",
      "happy happy happy\n"
     ]
    }
   ],
   "source": [
    "import multiprocessing\n",
    "import os\n",
    "\n",
    "def program():\n",
    "    for i in range(10):\n",
    "        i+=1\n",
    "        print(i)\n",
    "if __name__==\"__main__\":\n",
    "    my_program=multiprocessing.Process(target=program)\n",
    "    my_program.start()\n",
    "    my_program.join()\n",
    "    print(\"happy happy happy\")"
   ]
  },
  {
   "cell_type": "code",
   "execution_count": 15,
   "id": "9ec7926a-f893-4d2a-8c91-e5357ac119dc",
   "metadata": {},
   "outputs": [
    {
     "data": {
      "text/plain": [
       "'Q4. What is a multiprocessing pool in python? Why is it used?'"
      ]
     },
     "execution_count": 15,
     "metadata": {},
     "output_type": "execute_result"
    }
   ],
   "source": [
    "\"Q4. What is a multiprocessing pool in python? Why is it used?\""
   ]
  },
  {
   "cell_type": "code",
   "execution_count": 20,
   "id": "ece04d9a-517b-4afe-b82f-0dd8ecf7df80",
   "metadata": {},
   "outputs": [
    {
     "name": "stdout",
     "output_type": "stream",
     "text": [
      "original number are : [1, 2, 3, 4, 5, 6]\n",
      "sqaure number are : [1, 4, 9, 16, 25, 36]\n"
     ]
    }
   ],
   "source": [
    "import multiprocessing\n",
    "\n",
    "def square(n):\n",
    "    return n*n\n",
    "l=[1,2,3,4,5,6]\n",
    "if __name__==\"__main__\":\n",
    "    with multiprocessing.Pool(processes=5) as pool:\n",
    "        result = pool.map(square,l)\n",
    "    \n",
    "        print(f\"original number are : {l}\")\n",
    "        print(f\"sqaure number are : {result}\")"
   ]
  },
  {
   "cell_type": "code",
   "execution_count": 21,
   "id": "22dcb68b-84ab-4842-8e7f-07853d22ba44",
   "metadata": {},
   "outputs": [
    {
     "data": {
      "text/plain": [
       "'Q5. How can we create a pool of worker processes in python using the multiprocessing module?'"
      ]
     },
     "execution_count": 21,
     "metadata": {},
     "output_type": "execute_result"
    }
   ],
   "source": [
    "\"Q5. How can we create a pool of worker processes in python using the multiprocessing module?\""
   ]
  },
  {
   "cell_type": "code",
   "execution_count": 5,
   "id": "72547118-c9d5-42df-aca2-828aa53139ba",
   "metadata": {},
   "outputs": [
    {
     "name": "stdout",
     "output_type": "stream",
     "text": [
      "Processing 2: Result = 4Processing 1: Result = 1Processing 3: Result = 9\n",
      "\n",
      "\n",
      "Processing 5: Result = 25Processing 4: Result = 16\n",
      "\n",
      "Original Numbers: [1, 2, 3, 4, 5]\n",
      "Results: [1, 4, 9, 16, 25]\n"
     ]
    }
   ],
   "source": [
    "import multiprocessing\n",
    "\n",
    "def worker_fuction(number):\n",
    "    result=number*number\n",
    "    print (f\"processing {number}: result = {result}\")\n",
    "    return result\n",
    "if __name__==\"__main__\":\n",
    "    pool_size=3\n",
    "    with multiprocessing.Pool (processes=pool_size) as pool:\n",
    "            number_to_process=[1,2,3,4,5,6]\n",
    "            results = pool.map(worker_function, numbers_to_process)\n",
    "    print(\"Original Numbers:\", numbers_to_process)\n",
    "    print(\"Results:\", results)      "
   ]
  },
  {
   "cell_type": "code",
   "execution_count": 6,
   "id": "696fe344-e5e8-4fdf-a7b4-4b4969c4fc22",
   "metadata": {},
   "outputs": [
    {
     "data": {
      "text/plain": [
       "'Q6. Write a python program to create 4 processes, each process should print a different number using the multiprocessing module in python.'"
      ]
     },
     "execution_count": 6,
     "metadata": {},
     "output_type": "execute_result"
    }
   ],
   "source": [
    "\"Q6. Write a python program to create 4 processes, each process should print a different number using the multiprocessing module in python.\""
   ]
  },
  {
   "cell_type": "code",
   "execution_count": 7,
   "id": "bf909c13-2536-4da4-aec8-d7d4241be0e5",
   "metadata": {},
   "outputs": [
    {
     "name": "stdout",
     "output_type": "stream",
     "text": [
      "Process 1 prints: 1\n",
      "Process 2 prints: 2\n",
      "Process 3 prints: 3\n",
      "Process 4 prints: 4\n"
     ]
    }
   ],
   "source": [
    "import multiprocessing\n",
    "\n",
    "def print_number(number):\n",
    "    print(f\"Process {number} prints: {number}\")\n",
    "\n",
    "if __name__ == \"__main__\":\n",
    "    processes = []\n",
    "\n",
    "    for i in range(1, 5):\n",
    "        process = multiprocessing.Process(target=print_number, args=(i,))\n",
    "        processes.append(process)\n",
    "        process.start()\n",
    "\n",
    "    for process in processes:\n",
    "        process.join()"
   ]
  },
  {
   "cell_type": "code",
   "execution_count": null,
   "id": "7caececb-901a-41a2-af02-3279c8c96182",
   "metadata": {},
   "outputs": [],
   "source": []
  }
 ],
 "metadata": {
  "kernelspec": {
   "display_name": "Python 3 (ipykernel)",
   "language": "python",
   "name": "python3"
  },
  "language_info": {
   "codemirror_mode": {
    "name": "ipython",
    "version": 3
   },
   "file_extension": ".py",
   "mimetype": "text/x-python",
   "name": "python",
   "nbconvert_exporter": "python",
   "pygments_lexer": "ipython3",
   "version": "3.10.8"
  }
 },
 "nbformat": 4,
 "nbformat_minor": 5
}
