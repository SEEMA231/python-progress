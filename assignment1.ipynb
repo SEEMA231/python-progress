{
 "cells": [
  {
   "cell_type": "code",
   "execution_count": 27,
   "id": "116bb4cb-51c7-4fda-b06d-f53ea0e14417",
   "metadata": {},
   "outputs": [
    {
     "data": {
      "text/plain": [
       "'Q1 What is Abstraction in OOps? Explain with an example.'"
      ]
     },
     "execution_count": 27,
     "metadata": {},
     "output_type": "execute_result"
    }
   ],
   "source": [
    "\"\"\"Q1 What is Abstraction in OOps? Explain with an example.\"\"\""
   ]
  },
  {
   "cell_type": "code",
   "execution_count": 29,
   "id": "cedad8eb-1b4b-49f4-b894-7fab1a2722ba",
   "metadata": {},
   "outputs": [],
   "source": [
    "from abc import ABC, abstractmethod\n",
    "\n",
    "class Vehicle(ABC):\n",
    "    def __init__(self, brand):\n",
    "        self.brand = brand\n",
    "\n",
    "    @abstractmethod\n",
    "    def start(self):\n",
    "        pass\n",
    "\n",
    "    @abstractmethod\n",
    "    def stop(self):\n",
    "        pass\n",
    "\n",
    "class Car(Vehicle):\n",
    "    def start(self):\n",
    "        print(\"car started\")\n",
    "\n",
    "    def stop(self):\n",
    "        print(\"car stopped.\")\n",
    "\n",
    "\n",
    "class Motorcycle(Vehicle):\n",
    "    def start(self):\n",
    "        print(\" motorcycle started.\")\n",
    "\n",
    "    def stop(self):\n",
    "        print(\"motorcycle stopped.\")\n",
    "        "
   ]
  },
  {
   "cell_type": "code",
   "execution_count": 20,
   "id": "a17a4731-925a-4479-a9af-7c0da0041966",
   "metadata": {},
   "outputs": [
    {
     "data": {
      "text/plain": [
       "'Q2 Differentiate between Abstraction and Encapsulation. Explain with an example.'"
      ]
     },
     "execution_count": 20,
     "metadata": {},
     "output_type": "execute_result"
    }
   ],
   "source": [
    "\"\"\"Q2 Differentiate between Abstraction and Encapsulation. Explain with an example.\"\"\""
   ]
  },
  {
   "cell_type": "code",
   "execution_count": 4,
   "id": "b76f9f4e-8854-4ff0-b20f-70b60595a64f",
   "metadata": {},
   "outputs": [
    {
     "data": {
      "text/plain": [
       "'Abstraction:\\nDefinition:\\nAbstraction is the process of simplifying complex systems by modeling classes based on the essential properties and behaviors they share, while hiding non-essential details.\\nIt focuses on representing the essential characteristics of an object, allowing us to work at a higher, more conceptual level.'"
      ]
     },
     "execution_count": 4,
     "metadata": {},
     "output_type": "execute_result"
    }
   ],
   "source": [
    "\"\"\"Abstraction:\n",
    "Definition:\n",
    "Abstraction is the process of simplifying complex systems by modeling classes based on the essential properties and behaviors they share, while hiding non-essential details.\n",
    "It focuses on representing the essential characteristics of an object, allowing us to work at a higher, more conceptual level.\"\"\""
   ]
  },
  {
   "cell_type": "code",
   "execution_count": 6,
   "id": "7b2fcb9c-2c06-465a-a97a-ee5a2cd2065a",
   "metadata": {},
   "outputs": [
    {
     "data": {
      "text/plain": [
       "\"Encapsulation:\\nDefinition:\\nEncapsulation involves bundling the data (attributes) and methods (functions) that operate on the data into a single unit (a class).\\nIt helps in hiding the internal details of an object and exposing only what is necessary, ensuring that the object's state is controlled and accessed through defined interfaces.\""
      ]
     },
     "execution_count": 6,
     "metadata": {},
     "output_type": "execute_result"
    }
   ],
   "source": [
    "\"\"\"Encapsulation:\n",
    "Definition:\n",
    "Encapsulation involves bundling the data (attributes) and methods (functions) that operate on the data into a single unit (a class).\n",
    "It helps in hiding the internal details of an object and exposing only what is necessary, ensuring that the object's state is controlled and accessed through defined interfaces.\"\"\""
   ]
  },
  {
   "cell_type": "code",
   "execution_count": 16,
   "id": "c69dda73-95d4-4262-b5b0-69b171ac8c2c",
   "metadata": {},
   "outputs": [],
   "source": [
    "import abc\n",
    "\n",
    "class student:\n",
    "    \n",
    "    @abc.abstractclassmethod\n",
    "    def mentor_sub(self):\n",
    "        pass\n",
    "        \n",
    "    @abc.abstractclassmethod\n",
    "    def mentor_name(self):\n",
    "        pass\n",
    "    \n",
    "    @abc.abstractclassmethod\n",
    "    def mentor_class(self):\n",
    "        pass  "
   ]
  },
  {
   "cell_type": "code",
   "execution_count": 17,
   "id": "25a4845a-6df6-4f62-a030-d4ad490ae02c",
   "metadata": {},
   "outputs": [],
   "source": [
    "class student:\n",
    "    def student_sub(self):\n",
    "        print(\"data_science\")\n",
    "    def mentor_name(self):\n",
    "        print(\"sana\")"
   ]
  },
  {
   "cell_type": "code",
   "execution_count": 65,
   "id": "2f48d8b6-8762-44bc-98e9-e7a294145e87",
   "metadata": {},
   "outputs": [],
   "source": [
    "class assignment:\n",
    "    def __init__(self,name,phone):\n",
    "        self.name=name\n",
    "        self.__phone=phone\n",
    "        \n",
    "    def show_phone(self):\n",
    "        return self.__phone\n",
    "    \n",
    "    def change_phone(self,new_num):\n",
    "        self.__phone= new_num\n",
    "        "
   ]
  },
  {
   "cell_type": "code",
   "execution_count": 66,
   "id": "4f8d3d97-5455-4f6b-b98f-279f0808d94c",
   "metadata": {},
   "outputs": [],
   "source": [
    "a=assignment(\"name\",984546876)"
   ]
  },
  {
   "cell_type": "code",
   "execution_count": 67,
   "id": "f59b4f97-0936-4a8e-9e66-892ad8572e84",
   "metadata": {},
   "outputs": [
    {
     "data": {
      "text/plain": [
       "984546876"
      ]
     },
     "execution_count": 67,
     "metadata": {},
     "output_type": "execute_result"
    }
   ],
   "source": [
    "a.show_phone()"
   ]
  },
  {
   "cell_type": "code",
   "execution_count": 68,
   "id": "6a73138a-4120-408c-a114-c33314d6b625",
   "metadata": {},
   "outputs": [],
   "source": [
    "a.change_phone(6645647)"
   ]
  },
  {
   "cell_type": "code",
   "execution_count": 69,
   "id": "01fe09f1-6dac-4077-8fad-b9bae49adbb7",
   "metadata": {},
   "outputs": [
    {
     "data": {
      "text/plain": [
       "6645647"
      ]
     },
     "execution_count": 69,
     "metadata": {},
     "output_type": "execute_result"
    }
   ],
   "source": [
    "a.show_phone()"
   ]
  },
  {
   "cell_type": "code",
   "execution_count": 70,
   "id": "0a2ac712-d883-4113-84d6-14f9a7f64265",
   "metadata": {},
   "outputs": [
    {
     "data": {
      "text/plain": [
       "'Q3. What is abc module in python? Why is it used?'"
      ]
     },
     "execution_count": 70,
     "metadata": {},
     "output_type": "execute_result"
    }
   ],
   "source": [
    "\"\"\"Q3. What is abc module in python? Why is it used?\"\"\""
   ]
  },
  {
   "cell_type": "code",
   "execution_count": 71,
   "id": "46b9f351-1a05-4486-a205-e0040853d187",
   "metadata": {},
   "outputs": [
    {
     "data": {
      "text/plain": [
       "'The abc module in Python stands for \"Abstract Base Classes.\" It provides the ABC (Abstract Base Class) and abstractmethod decorator, allowing you to define abstract classes and abstract methods. Abstract classes are classes that cannot be instantiated on their own and are meant to be subclassed by other classes.'"
      ]
     },
     "execution_count": 71,
     "metadata": {},
     "output_type": "execute_result"
    }
   ],
   "source": [
    "\"\"\"The abc module in Python stands for \"Abstract Base Classes.\" It provides the ABC (Abstract Base Class) and abstractmethod decorator, allowing you to define abstract classes and abstract methods. Abstract classes are classes that cannot be instantiated on their own and are meant to be subclassed by other classes.\"\"\""
   ]
  },
  {
   "cell_type": "code",
   "execution_count": 72,
   "id": "88405c6d-6ca2-4097-9744-7e8284b33c4a",
   "metadata": {},
   "outputs": [
    {
     "data": {
      "text/plain": [
       "'Q4. How can we achieve data abstraction?'"
      ]
     },
     "execution_count": 72,
     "metadata": {},
     "output_type": "execute_result"
    }
   ],
   "source": [
    "\"\"\"Q4. How can we achieve data abstraction?\"\"\""
   ]
  },
  {
   "cell_type": "code",
   "execution_count": 74,
   "id": "34f1eb01-bc1d-496e-bc5e-4f5ac94a1dd8",
   "metadata": {},
   "outputs": [
    {
     "data": {
      "text/plain": [
       "'Data abstraction in programming refers to the concept of hiding the complex implementation details of data and exposing only the essential features or interfaces. It allows you to focus on what an object does rather than how it achieves its functionality. In object-oriented programming (OOP), data abstraction can be achieved through several mechanisms: Encapsulation Abstraction Inheritance Polymorphism'"
      ]
     },
     "execution_count": 74,
     "metadata": {},
     "output_type": "execute_result"
    }
   ],
   "source": [
    "\"\"\"Data abstraction in programming refers to the concept of hiding the complex implementation details of data and exposing only the essential features or interfaces. It allows you to focus on what an object does rather than how it achieves its functionality. In object-oriented programming (OOP), data abstraction can be achieved through several mechanisms: Encapsulation Abstraction Inheritance Polymorphism\"\"\""
   ]
  },
  {
   "cell_type": "code",
   "execution_count": 75,
   "id": "cd5985d9-8412-49a3-9a8c-0c245237a80a",
   "metadata": {},
   "outputs": [
    {
     "data": {
      "text/plain": [
       "'Q5. Can we create an instance of an abstract class? Explain your answer.'"
      ]
     },
     "execution_count": 75,
     "metadata": {},
     "output_type": "execute_result"
    }
   ],
   "source": [
    "'''Q5. Can we create an instance of an abstract class? Explain your answer.'''"
   ]
  },
  {
   "cell_type": "code",
   "execution_count": 76,
   "id": "3919cb4e-f5da-4dbe-8921-c0f93592a675",
   "metadata": {},
   "outputs": [
    {
     "data": {
      "text/plain": [
       "'No, we cannot create an instance of an abstract class directly in Python. Abstract classes are meant to serve as blueprints or templates for other classes to inherit from. They typically contain one or more abstract methods, which are declared but not implemented in the abstract class. An abstract method is a method that must be implemented by any concrete subclass.\\n\\nAttempting to instantiate an abstract class directly would result in a TypeError. Python prevents instantiation of abstract classes to enforce the rule that abstract classes should not be used on their own but rather serve as a basis for creating concrete subclasses.'"
      ]
     },
     "execution_count": 76,
     "metadata": {},
     "output_type": "execute_result"
    }
   ],
   "source": [
    "\"\"\"No, we cannot create an instance of an abstract class directly in Python. Abstract classes are meant to serve as blueprints or templates for other classes to inherit from. They typically contain one or more abstract methods, which are declared but not implemented in the abstract class. An abstract method is a method that must be implemented by any concrete subclass.\n",
    "\n",
    "Attempting to instantiate an abstract class directly would result in a TypeError. Python prevents instantiation of abstract classes to enforce the rule that abstract classes should not be used on their own but rather serve as a basis for creating concrete subclasses.\"\"\""
   ]
  },
  {
   "cell_type": "code",
   "execution_count": 88,
   "id": "288c9938-e91d-4c40-9942-2d66fd4ad84d",
   "metadata": {},
   "outputs": [],
   "source": [
    "import abc\n",
    "class Shape(ABC):\n",
    "    @abc.abstractmethod\n",
    "    def calculate_area(self):\n",
    "        pass "
   ]
  },
  {
   "cell_type": "code",
   "execution_count": 90,
   "id": "639b51e7-0f30-4c9a-8285-2e363308c5e6",
   "metadata": {},
   "outputs": [],
   "source": [
    "class Circle(Shape):\n",
    "    def __init__(self, radius):\n",
    "        self.radius = radius\n",
    "\n",
    "    def calculate_area(self):\n",
    "        return 3.14 * self.radius * self.radius"
   ]
  },
  {
   "cell_type": "code",
   "execution_count": 91,
   "id": "6a1c2655-54cb-4628-bc18-484d754c0bc1",
   "metadata": {},
   "outputs": [],
   "source": [
    "circle = Circle(5)"
   ]
  },
  {
   "cell_type": "code",
   "execution_count": null,
   "id": "cf98f23b-bae7-430b-ae47-7b4fbca52c74",
   "metadata": {},
   "outputs": [],
   "source": []
  }
 ],
 "metadata": {
  "kernelspec": {
   "display_name": "Python 3 (ipykernel)",
   "language": "python",
   "name": "python3"
  },
  "language_info": {
   "codemirror_mode": {
    "name": "ipython",
    "version": 3
   },
   "file_extension": ".py",
   "mimetype": "text/x-python",
   "name": "python",
   "nbconvert_exporter": "python",
   "pygments_lexer": "ipython3",
   "version": "3.10.8"
  }
 },
 "nbformat": 4,
 "nbformat_minor": 5
}
