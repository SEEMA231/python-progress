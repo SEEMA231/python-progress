{
 "cells": [
  {
   "cell_type": "code",
   "execution_count": 1,
   "id": "fbbd6418-4d3d-477a-a7ac-db80f6caeafa",
   "metadata": {},
   "outputs": [
    {
     "data": {
      "text/plain": [
       "'Q1. Explain Class and Object with respect to Object-Oriented Programming. Give a suitable example.'"
      ]
     },
     "execution_count": 1,
     "metadata": {},
     "output_type": "execute_result"
    }
   ],
   "source": [
    "\"\"\"Q1. Explain Class and Object with respect to Object-Oriented Programming. Give a suitable example.\"\"\""
   ]
  },
  {
   "cell_type": "code",
   "execution_count": 2,
   "id": "a3a2e912-e372-4393-a8bf-0542aaec6339",
   "metadata": {},
   "outputs": [
    {
     "data": {
      "text/plain": [
       "'In object-oriented programming (OOP), a class is a blueprint or template for creating objects. It defines the properties (attributes) and behaviors (methods) that all objects of that class will have. Think of a class as a cookie cutter, and objects as the cookies you make using that cutter.\\n\\nAn object, on the other hand, is an instance of a class. It is a concrete realization of the class blueprint, possessing its own set of properties and behaviors. Continuing with the analogy, an object is a specific cookie made using the cookie cutter.'"
      ]
     },
     "execution_count": 2,
     "metadata": {},
     "output_type": "execute_result"
    }
   ],
   "source": [
    "\"\"\"In object-oriented programming (OOP), a class is a blueprint or template for creating objects. It defines the properties (attributes) and behaviors (methods) that all objects of that class will have. Think of a class as a cookie cutter, and objects as the cookies you make using that cutter.\n",
    "\n",
    "An object, on the other hand, is an instance of a class. It is a concrete realization of the class blueprint, possessing its own set of properties and behaviors. Continuing with the analogy, an object is a specific cookie made using the cookie cutter.\"\"\""
   ]
  },
  {
   "cell_type": "code",
   "execution_count": 3,
   "id": "447a1aab-ce3c-403e-84bc-f513fc86d7b8",
   "metadata": {},
   "outputs": [],
   "source": [
    "class pwskills:\n",
    "    def __init__(self,name,rollnumber):\n",
    "        self.name=name\n",
    "        self.rollnumber=rollnumber\n",
    "        \n",
    "    def student_details(self):\n",
    "        return self.name,self.rollnumber"
   ]
  },
  {
   "cell_type": "code",
   "execution_count": 4,
   "id": "5d85fd6b-f4f7-41cf-bcb1-05df744d48cc",
   "metadata": {},
   "outputs": [],
   "source": [
    "pw=pwskills(\"sana\",6534)"
   ]
  },
  {
   "cell_type": "code",
   "execution_count": 5,
   "id": "94e5cbf7-714f-4137-a58a-6f951f1a6814",
   "metadata": {},
   "outputs": [
    {
     "data": {
      "text/plain": [
       "'sana'"
      ]
     },
     "execution_count": 5,
     "metadata": {},
     "output_type": "execute_result"
    }
   ],
   "source": [
    "pw.name"
   ]
  },
  {
   "cell_type": "code",
   "execution_count": 6,
   "id": "d067ce84-b181-4d15-bbf2-475b8eed33ed",
   "metadata": {},
   "outputs": [
    {
     "data": {
      "text/plain": [
       "6534"
      ]
     },
     "execution_count": 6,
     "metadata": {},
     "output_type": "execute_result"
    }
   ],
   "source": [
    "pw.rollnumber"
   ]
  },
  {
   "cell_type": "code",
   "execution_count": 7,
   "id": "f8f190ce-59dd-4210-9c35-00bc3ff5cf8d",
   "metadata": {},
   "outputs": [
    {
     "data": {
      "text/plain": [
       "'Q2 Name the four pillars of OOPs.'"
      ]
     },
     "execution_count": 7,
     "metadata": {},
     "output_type": "execute_result"
    }
   ],
   "source": [
    "\"\"\"Q2 Name the four pillars of OOPs.\"\"\""
   ]
  },
  {
   "cell_type": "code",
   "execution_count": 8,
   "id": "41feed59-9340-4241-b9e7-b721553edf01",
   "metadata": {},
   "outputs": [
    {
     "data": {
      "text/plain": [
       "'Encapsulation ,Abstraction ,Inheritance ,Polymorphism'"
      ]
     },
     "execution_count": 8,
     "metadata": {},
     "output_type": "execute_result"
    }
   ],
   "source": [
    "\"\"\"Encapsulation ,Abstraction ,Inheritance ,Polymorphism\"\"\""
   ]
  },
  {
   "cell_type": "code",
   "execution_count": 9,
   "id": "ef48c8f0-ed37-47b9-8c3a-e0da9984d905",
   "metadata": {},
   "outputs": [
    {
     "data": {
      "text/plain": [
       "'why the __init__() function in Python is a special method used for initializing objects of a class. It is called automatically when a new instance of the class is created. This method is commonly used to initialize the attributes of the object with initial values.'"
      ]
     },
     "execution_count": 9,
     "metadata": {},
     "output_type": "execute_result"
    }
   ],
   "source": [
    "\"\"\"why the __init__() function in Python is a special method used for initializing objects of a class. It is called automatically when a new instance of the class is created. This method is commonly used to initialize the attributes of the object with initial values.\"\"\""
   ]
  },
  {
   "cell_type": "code",
   "execution_count": 10,
   "id": "378b7142-9f4f-4ab2-9e02-b740b2dcd6ed",
   "metadata": {},
   "outputs": [],
   "source": [
    "class pwskills1:\n",
    "    def __init__(self,course_name,total_fee):\n",
    "        self.course_name=course_name\n",
    "        self.fee=total_fee\n",
    "        \n",
    "    def student_details(self):\n",
    "        return self.course_name,self._totalfee"
   ]
  },
  {
   "cell_type": "code",
   "execution_count": 11,
   "id": "19a75702-2b0a-4373-9805-e93c5da0a219",
   "metadata": {},
   "outputs": [],
   "source": [
    "pw1=pwskills1(\"data_science\",3500)"
   ]
  },
  {
   "cell_type": "code",
   "execution_count": 12,
   "id": "968c6f8e-5c0f-4869-b47a-1514f6ac065a",
   "metadata": {},
   "outputs": [],
   "source": [
    "pw2=pwskills1(\"web_dev\",3600)"
   ]
  },
  {
   "cell_type": "code",
   "execution_count": 13,
   "id": "5f4d2f11-cebc-4431-ab36-11a1cd32191e",
   "metadata": {},
   "outputs": [
    {
     "data": {
      "text/plain": [
       "3500"
      ]
     },
     "execution_count": 13,
     "metadata": {},
     "output_type": "execute_result"
    }
   ],
   "source": [
    "pw1.fee"
   ]
  },
  {
   "cell_type": "code",
   "execution_count": 14,
   "id": "e7eb2438-fa9b-4344-b958-e95f888380ec",
   "metadata": {},
   "outputs": [
    {
     "data": {
      "text/plain": [
       "3600"
      ]
     },
     "execution_count": 14,
     "metadata": {},
     "output_type": "execute_result"
    }
   ],
   "source": [
    "pw2.fee"
   ]
  },
  {
   "cell_type": "code",
   "execution_count": 15,
   "id": "a9e86b48-97d9-4080-bbbf-cc3b79917ca5",
   "metadata": {},
   "outputs": [
    {
     "data": {
      "text/plain": [
       "'Q4 Why self is used in OOPs?'"
      ]
     },
     "execution_count": 15,
     "metadata": {},
     "output_type": "execute_result"
    }
   ],
   "source": [
    "\"\"\"Q4 Why self is used in OOPs?\"\"\""
   ]
  },
  {
   "cell_type": "code",
   "execution_count": 16,
   "id": "fc8491fa-d28b-4ac6-ad44-dc2e8c3a8623",
   "metadata": {},
   "outputs": [
    {
     "data": {
      "text/plain": [
       "'In object-oriented programming (OOP), self is used to refer to the current instance of a class. It is a reference to the object itself, allowing the object to access its own attributes and methods within its own scope.'"
      ]
     },
     "execution_count": 16,
     "metadata": {},
     "output_type": "execute_result"
    }
   ],
   "source": [
    "\"\"\"In object-oriented programming (OOP), self is used to refer to the current instance of a class. It is a reference to the object itself, allowing the object to access its own attributes and methods within its own scope.\"\"\""
   ]
  },
  {
   "cell_type": "code",
   "execution_count": 17,
   "id": "f18fdf7e-c849-4f1c-9550-18c3612f653d",
   "metadata": {},
   "outputs": [
    {
     "data": {
      "text/plain": [
       "'Q5.What is inheritance? Give an example for each type of inheritance.'"
      ]
     },
     "execution_count": 17,
     "metadata": {},
     "output_type": "execute_result"
    }
   ],
   "source": [
    "\"\"\"Q5.What is inheritance? Give an example for each type of inheritance.\"\"\""
   ]
  },
  {
   "cell_type": "code",
   "execution_count": 18,
   "id": "dd6cf2c0-40d2-461a-834d-50c47254b659",
   "metadata": {},
   "outputs": [
    {
     "data": {
      "text/plain": [
       "'Inheritance is a fundamental concept in object-oriented programming (OOP) that allows a new class (subclass or derived class) to inherit attributes and methods from an existing class (base class or superclass). This promotes code reuse and establishes a hierarchical relationship between classes.'"
      ]
     },
     "execution_count": 18,
     "metadata": {},
     "output_type": "execute_result"
    }
   ],
   "source": [
    "\"\"\"Inheritance is a fundamental concept in object-oriented programming (OOP) that allows a new class (subclass or derived class) to inherit attributes and methods from an existing class (base class or superclass). This promotes code reuse and establishes a hierarchical relationship between classes.\"\"\""
   ]
  },
  {
   "cell_type": "code",
   "execution_count": 19,
   "id": "800a605d-ccfb-4740-9796-281222253326",
   "metadata": {},
   "outputs": [],
   "source": [
    "#Single Inheritance\n",
    "class programming:\n",
    "    def python(self):\n",
    "        print(\"my python class\")\n",
    "        \n",
    "class programming1(programming):\n",
    "    def java(self):\n",
    "        print(\"my java class\")"
   ]
  },
  {
   "cell_type": "code",
   "execution_count": 20,
   "id": "8c46ab9c-90a1-46db-8337-59aaf259f460",
   "metadata": {},
   "outputs": [],
   "source": [
    "detail=programming1()"
   ]
  },
  {
   "cell_type": "code",
   "execution_count": 21,
   "id": "e04ca07a-ea1e-4633-8a04-463ea306a8a4",
   "metadata": {},
   "outputs": [
    {
     "name": "stdout",
     "output_type": "stream",
     "text": [
      "my python class\n"
     ]
    }
   ],
   "source": [
    "detail.python()"
   ]
  },
  {
   "cell_type": "code",
   "execution_count": 22,
   "id": "d3fb9455-e57b-4061-8cc2-9efa89665f79",
   "metadata": {},
   "outputs": [
    {
     "name": "stdout",
     "output_type": "stream",
     "text": [
      "my java class\n"
     ]
    }
   ],
   "source": [
    "detail.java()"
   ]
  },
  {
   "cell_type": "code",
   "execution_count": 23,
   "id": "6ba00790-5fdf-42d2-8757-c76b3f37b5e0",
   "metadata": {},
   "outputs": [],
   "source": [
    "#Multiple Inheritance:\n",
    "class programming2:\n",
    "    def python(self):\n",
    "        print(\"my python class\")\n",
    "        \n",
    "class programming3():\n",
    "    def java(self):\n",
    "        print(\"my java class\")\n",
    "        \n",
    "class programming4(programming2,programming3):\n",
    "    def web_dev(self):\n",
    "        print(\"my web_dev class\")\n",
    "        "
   ]
  },
  {
   "cell_type": "code",
   "execution_count": 24,
   "id": "00f3f18e-3e40-47b3-8df0-87819be3e0c3",
   "metadata": {},
   "outputs": [],
   "source": [
    "detail1=programming4()"
   ]
  },
  {
   "cell_type": "code",
   "execution_count": 25,
   "id": "1f13e38d-e2be-4326-8f1f-6b7a928b8f72",
   "metadata": {},
   "outputs": [
    {
     "name": "stdout",
     "output_type": "stream",
     "text": [
      "my web_dev class\n"
     ]
    }
   ],
   "source": [
    "detail1.web_dev()"
   ]
  },
  {
   "cell_type": "code",
   "execution_count": 26,
   "id": "7c52d4b6-ad85-4353-91f6-30801e0dbd0f",
   "metadata": {},
   "outputs": [
    {
     "name": "stdout",
     "output_type": "stream",
     "text": [
      "my python class\n"
     ]
    }
   ],
   "source": [
    "detail1.python()"
   ]
  },
  {
   "cell_type": "code",
   "execution_count": 27,
   "id": "f89ac1bd-8aa4-4408-baa4-a2546612d455",
   "metadata": {},
   "outputs": [
    {
     "name": "stdout",
     "output_type": "stream",
     "text": [
      "my java class\n"
     ]
    }
   ],
   "source": [
    "detail1.java()"
   ]
  },
  {
   "cell_type": "code",
   "execution_count": 28,
   "id": "a81122e3-fb28-46fb-8ce7-3843089fd074",
   "metadata": {},
   "outputs": [],
   "source": [
    "#Multilevel Inheritance:\n",
    "class a:\n",
    "    def method_a(self):\n",
    "        print(\"print from class a\")\n",
    "\n",
    "class b(a):\n",
    "    def method_b(self):\n",
    "        print(\"print from class b\")\n",
    "\n",
    "class c(b):\n",
    "    def method_c(self):\n",
    "        print(\"print from class c\")"
   ]
  },
  {
   "cell_type": "code",
   "execution_count": 29,
   "id": "3b3733dc-a78e-46f2-9a9b-6f34669162ae",
   "metadata": {},
   "outputs": [],
   "source": [
    "#Hierarchical Inheritance:\n",
    "class a:\n",
    "    def method_a(self):\n",
    "        print(\"print from class a\")\n",
    "\n",
    "class b(a):\n",
    "    def method_b(self):\n",
    "        print(\"print from class b\")\n",
    "\n",
    "class c(a):\n",
    "    def method_c(self):\n",
    "        print(\"print from class c\")"
   ]
  },
  {
   "cell_type": "code",
   "execution_count": 30,
   "id": "d835ab28-dfc4-450c-9946-6a7802904b01",
   "metadata": {},
   "outputs": [],
   "source": [
    "#Hybrid (or Virtual) Inheritance:\n",
    "class a:\n",
    "    def method_a(self):\n",
    "        print(\"print from class a\")\n",
    "\n",
    "class b(a):\n",
    "    def method_b(self):\n",
    "        print(\"print from class b\")\n",
    "\n",
    "class c(a):\n",
    "    def method_c(self):\n",
    "        print(\"print from class c\")\n",
    "        \n",
    "class d(b,c):\n",
    "    def method_d(self):\n",
    "        print(\"print from class d\")\n"
   ]
  }
 ],
 "metadata": {
  "kernelspec": {
   "display_name": "Python 3 (ipykernel)",
   "language": "python",
   "name": "python3"
  },
  "language_info": {
   "codemirror_mode": {
    "name": "ipython",
    "version": 3
   },
   "file_extension": ".py",
   "mimetype": "text/x-python",
   "name": "python",
   "nbconvert_exporter": "python",
   "pygments_lexer": "ipython3",
   "version": "3.10.8"
  }
 },
 "nbformat": 4,
 "nbformat_minor": 5
}
