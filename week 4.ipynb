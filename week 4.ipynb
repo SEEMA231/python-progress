{
 "cells": [
  {
   "cell_type": "code",
   "execution_count": 1,
   "id": "946fceaf-ba59-4411-9460-ba78b01f1a1f",
   "metadata": {},
   "outputs": [
    {
     "data": {
      "text/plain": [
       "'Q1, Create a vehicle class with an init method having instance variables as name_of_vehicle, max_speed\\nand average_of_vehicle.'"
      ]
     },
     "execution_count": 1,
     "metadata": {},
     "output_type": "execute_result"
    }
   ],
   "source": [
    "'''Q1, Create a vehicle class with an init method having instance variables as name_of_vehicle, max_speed\n",
    "and average_of_vehicle.'''"
   ]
  },
  {
   "cell_type": "code",
   "execution_count": 2,
   "id": "c38cc2dc-1e14-4b93-baaf-9295fb7cb89a",
   "metadata": {},
   "outputs": [],
   "source": [
    "class Vehicle:\n",
    "    \n",
    "    def __init__(self, name_of_vehicle, max_speed, average_of_vehicle):\n",
    "        self.name_of_vehicle = name_of_vehicle\n",
    "        self.max_speed = max_speed\n",
    "        self.average_of_vehicle = average_of_vehicle\n"
   ]
  },
  {
   "cell_type": "code",
   "execution_count": 3,
   "id": "3071b46b-4bc8-426a-98c6-ea74b6defc89",
   "metadata": {},
   "outputs": [
    {
     "data": {
      "text/plain": [
       "'Q2. Create a child class car from the vehicle class created in Que 1, which will inherit the vehicle class.\\nCreate a method named seating_capacity'"
      ]
     },
     "execution_count": 3,
     "metadata": {},
     "output_type": "execute_result"
    }
   ],
   "source": [
    "\"\"\"Q2. Create a child class car from the vehicle class created in Que 1, which will inherit the vehicle class.\n",
    "Create a method named seating_capacity\"\"\""
   ]
  },
  {
   "cell_type": "code",
   "execution_count": 4,
   "id": "525665e1-d27c-4b0d-b2cf-bec1b2ca8733",
   "metadata": {},
   "outputs": [],
   "source": [
    "def seating_capacity(self, capacity):\n",
    "        return f\"{self.name_of_vehicle} has a seating capacity of {capacity} passengers.\""
   ]
  },
  {
   "cell_type": "code",
   "execution_count": 5,
   "id": "1e51ec87-dd12-4a0b-81bc-f170f45caa2c",
   "metadata": {},
   "outputs": [
    {
     "ename": "NameError",
     "evalue": "name 'Car' is not defined",
     "output_type": "error",
     "traceback": [
      "\u001b[0;31m---------------------------------------------------------------------------\u001b[0m",
      "\u001b[0;31mNameError\u001b[0m                                 Traceback (most recent call last)",
      "Cell \u001b[0;32mIn[5], line 1\u001b[0m\n\u001b[0;32m----> 1\u001b[0m car_instance \u001b[38;5;241m=\u001b[39m \u001b[43mCar\u001b[49m(name_of_vehicle\u001b[38;5;241m=\u001b[39m\u001b[38;5;124m\"\u001b[39m\u001b[38;5;124mhonda\u001b[39m\u001b[38;5;124m\"\u001b[39m, max_speed\u001b[38;5;241m=\u001b[39m\u001b[38;5;241m200\u001b[39m, average_of_vehicle\u001b[38;5;241m=\u001b[39m\u001b[38;5;241m30\u001b[39m)\n\u001b[1;32m      2\u001b[0m capacity_result \u001b[38;5;241m=\u001b[39m car_instance\u001b[38;5;241m.\u001b[39mseating_capacity(\u001b[38;5;241m5\u001b[39m)\n\u001b[1;32m      3\u001b[0m \u001b[38;5;28mprint\u001b[39m(capacity_result)\n",
      "\u001b[0;31mNameError\u001b[0m: name 'Car' is not defined"
     ]
    }
   ],
   "source": [
    "car_instance = Car(name_of_vehicle=\"honda\", max_speed=200, average_of_vehicle=30)\n",
    "capacity_result = car_instance.seating_capacity(5)\n",
    "print(capacity_result)"
   ]
  },
  {
   "cell_type": "code",
   "execution_count": 6,
   "id": "ba074932-1dfc-4b88-8988-8b9904578cff",
   "metadata": {},
   "outputs": [
    {
     "data": {
      "text/plain": [
       "'Q3. What is multiple inheritance? Write a python code to demonstrate multiple inheritance.'"
      ]
     },
     "execution_count": 6,
     "metadata": {},
     "output_type": "execute_result"
    }
   ],
   "source": [
    "\"\"\"Q3. What is multiple inheritance? Write a python code to demonstrate multiple inheritance.\"\"\""
   ]
  },
  {
   "cell_type": "code",
   "execution_count": 7,
   "id": "89406fb2-b490-4dff-bde8-dc4472e02fbc",
   "metadata": {},
   "outputs": [],
   "source": [
    "#Multiple inheritance is a feature in object-oriented programming languages where a class can inherit attributes and methods from more than one parent class. In Python, you can create a class that inherits from multiple classes using a comma-separated list in the class definition."
   ]
  },
  {
   "cell_type": "code",
   "execution_count": 8,
   "id": "737b33c7-36fa-43a6-bdf0-26decdedef31",
   "metadata": {},
   "outputs": [],
   "source": [
    "class data_science:\n",
    "    def details1(self):\n",
    "        return \"online learing of data science.\"\n",
    "\n",
    "class web_dev:\n",
    "    def details2(self):\n",
    "        return \"this in my web dev class.\"\n",
    "\n",
    "class pwskills(data_science,web_dev):\n",
    "    def details3(self):\n",
    "        pass"
   ]
  },
  {
   "cell_type": "code",
   "execution_count": 9,
   "id": "83091009-7c64-4e4c-a006-a54eb60ac522",
   "metadata": {},
   "outputs": [],
   "source": [
    "masters=pwskills()"
   ]
  },
  {
   "cell_type": "code",
   "execution_count": 10,
   "id": "026d4cdb-884f-4168-895d-e4b72fa9f95c",
   "metadata": {},
   "outputs": [
    {
     "data": {
      "text/plain": [
       "'online learing of data science.'"
      ]
     },
     "execution_count": 10,
     "metadata": {},
     "output_type": "execute_result"
    }
   ],
   "source": [
    "masters.details1()"
   ]
  },
  {
   "cell_type": "code",
   "execution_count": 11,
   "id": "b1d6a736-0cd5-46a2-a1a6-a9bd4f143a3e",
   "metadata": {},
   "outputs": [
    {
     "data": {
      "text/plain": [
       "'this in my web dev class.'"
      ]
     },
     "execution_count": 11,
     "metadata": {},
     "output_type": "execute_result"
    }
   ],
   "source": [
    "masters.details2()"
   ]
  },
  {
   "cell_type": "code",
   "execution_count": 12,
   "id": "0b5378f6-51dd-4f73-8f17-4c3bc75fd840",
   "metadata": {},
   "outputs": [],
   "source": [
    "#Q4. What are getter and setter in python? Create a class and create a getter and a setter method in this class."
   ]
  },
  {
   "cell_type": "code",
   "execution_count": 13,
   "id": "14c11d78-3e5f-4309-a881-ebe0ea18b6c7",
   "metadata": {},
   "outputs": [
    {
     "name": "stdout",
     "output_type": "stream",
     "text": [
      "Name: Alice\n",
      "Age: 25\n",
      "Updated Name: Bob\n",
      "Updated Age: 30\n"
     ]
    }
   ],
   "source": [
    "class Person:\n",
    "    def __init__(self, name, age):\n",
    "        self._name = name  \n",
    "        self._age = age\n",
    "\n",
    "    # Getter method for name\n",
    "    def get_name(self):\n",
    "        return self._name\n",
    "\n",
    "    # Getter method for age\n",
    "    def get_age(self):\n",
    "        return self._age\n",
    "\n",
    "    # Setter method for name\n",
    "    def set_name(self, new_name):\n",
    "        self._name = new_name\n",
    "\n",
    "    # Setter method for age\n",
    "    def set_age(self, new_age):\n",
    "        if new_age >= 0:\n",
    "            self._age = new_age\n",
    "        else:\n",
    "            print(\"Age must be a non-negative value.\")\n",
    "\n",
    "\n",
    "person = Person(name=\"Alice\", age=25)\n",
    "\n",
    "# Using getter methods\n",
    "print(\"Name:\", person.get_name())\n",
    "print(\"Age:\", person.get_age())\n",
    "\n",
    "# Using setter methods\n",
    "person.set_name(\"Bob\")\n",
    "person.set_age(30)\n",
    "\n",
    "# Checking the updated values using getter methods\n",
    "print(\"Updated Name:\", person.get_name())\n",
    "print(\"Updated Age:\", person.get_age())\n"
   ]
  },
  {
   "cell_type": "code",
   "execution_count": 14,
   "id": "efbe7984-01be-435e-a019-75e615f9fc75",
   "metadata": {},
   "outputs": [],
   "source": [
    "#Q5.What is method overriding in python? Write a python code to demonstrate method overriding."
   ]
  },
  {
   "cell_type": "code",
   "execution_count": 15,
   "id": "7357cd1b-45a6-4a96-b0f9-9dede26aa71d",
   "metadata": {},
   "outputs": [
    {
     "data": {
      "text/plain": [
       "'Method overriding in Python occurs when a subclass provides a specific implementation for a method that is already defined in its superclass. The overridden method in the subclass should have the same signature (name and parameters) as the method in the superclass.'"
      ]
     },
     "execution_count": 15,
     "metadata": {},
     "output_type": "execute_result"
    }
   ],
   "source": [
    "\"\"\"Method overriding in Python occurs when a subclass provides a specific implementation for a method that is already defined in its superclass. The overridden method in the subclass should have the same signature (name and parameters) as the method in the superclass.\"\"\""
   ]
  },
  {
   "cell_type": "code",
   "execution_count": 16,
   "id": "0618623a-85af-4e96-a22b-73ca9ec645b2",
   "metadata": {},
   "outputs": [
    {
     "name": "stdout",
     "output_type": "stream",
     "text": [
      "Dog Sound: Woof! Woof!\n",
      "Cat Sound: Meow\n"
     ]
    }
   ],
   "source": [
    "class Animal:\n",
    "    def make_sound(self):\n",
    "        return \"Generic animal sound\"\n",
    "\n",
    "class Dog(Animal):\n",
    "    def make_sound(self):\n",
    "        return \"Woof! Woof!\"\n",
    "\n",
    "class Cat(Animal):\n",
    "    def make_sound(self):\n",
    "        return \"Meow\"\n",
    "\n",
    "dog = Dog()\n",
    "print(\"Dog Sound:\", dog.make_sound())\n",
    "\n",
    "cat = Cat()\n",
    "print(\"Cat Sound:\", cat.make_sound())\n"
   ]
  },
  {
   "cell_type": "code",
   "execution_count": null,
   "id": "5f6119a3-6638-44d0-b5ef-5a2b99d62dce",
   "metadata": {},
   "outputs": [],
   "source": []
  }
 ],
 "metadata": {
  "kernelspec": {
   "display_name": "Python 3 (ipykernel)",
   "language": "python",
   "name": "python3"
  },
  "language_info": {
   "codemirror_mode": {
    "name": "ipython",
    "version": 3
   },
   "file_extension": ".py",
   "mimetype": "text/x-python",
   "name": "python",
   "nbconvert_exporter": "python",
   "pygments_lexer": "ipython3",
   "version": "3.10.8"
  }
 },
 "nbformat": 4,
 "nbformat_minor": 5
}
