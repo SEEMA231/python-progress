{
 "cells": [
  {
   "cell_type": "code",
   "execution_count": 48,
   "id": "b42f9a67-3061-4d65-95a9-2624b8fc8884",
   "metadata": {},
   "outputs": [
    {
     "data": {
      "text/plain": [
       "'Q1. What is an Exception in python? Write the difference etween Exceptions nd syntax errors'"
      ]
     },
     "execution_count": 48,
     "metadata": {},
     "output_type": "execute_result"
    }
   ],
   "source": [
    "\"Q1. What is an Exception in python? Write the difference etween Exceptions nd syntax errors\""
   ]
  },
  {
   "cell_type": "code",
   "execution_count": 1,
   "id": "344156f5-2b58-4a59-a140-6ef130a987e6",
   "metadata": {},
   "outputs": [],
   "source": [
    "#Occurrence: Exceptions occur during the execution of the program, while syntax errors occur during the parsing phase, before the program starts executing.\n",
    "#Cause: Exceptions are typically caused by runtime conditions such as invalid input or resource unavailability, while syntax errors are caused by violations of the Python language syntax rules.\n",
    "#Effect: Exceptions disrupt the normal flow of the program and may lead to program termination if not handled properly, while syntax errors prevent the program from running at all."
   ]
  },
  {
   "cell_type": "code",
   "execution_count": 2,
   "id": "4d44edff-c1cf-43a2-8f37-1e6917b106b1",
   "metadata": {},
   "outputs": [
    {
     "data": {
      "text/plain": [
       "'Q2. What happens when an exception is not handled? Explain with an example'"
      ]
     },
     "execution_count": 2,
     "metadata": {},
     "output_type": "execute_result"
    }
   ],
   "source": [
    "\"Q2. What happens when an exception is not handled? Explain with an example\""
   ]
  },
  {
   "cell_type": "code",
   "execution_count": 3,
   "id": "ea4ef53d-8aef-4bd8-ab69-dc0b8b5c794b",
   "metadata": {},
   "outputs": [],
   "source": [
    "#\"when syntactically correct code runs into an error, Python will throw an exception error. This exception error will crash the program if it is unhandled.\""
   ]
  },
  {
   "cell_type": "code",
   "execution_count": 4,
   "id": "7ea865be-9892-4d0a-959d-399fe7ebbb6e",
   "metadata": {},
   "outputs": [],
   "source": [
    "#without exeception\n",
    "def example():\n",
    "    return 10/0\n",
    "def printing():\n",
    "    print(\"this is my example\")"
   ]
  },
  {
   "cell_type": "code",
   "execution_count": 5,
   "id": "3f59f8b2-0188-413d-ab83-36d7d54dd2a5",
   "metadata": {},
   "outputs": [
    {
     "ename": "ZeroDivisionError",
     "evalue": "division by zero",
     "output_type": "error",
     "traceback": [
      "\u001b[0;31m---------------------------------------------------------------------------\u001b[0m",
      "\u001b[0;31mZeroDivisionError\u001b[0m                         Traceback (most recent call last)",
      "Cell \u001b[0;32mIn[5], line 1\u001b[0m\n\u001b[0;32m----> 1\u001b[0m \u001b[43mexample\u001b[49m\u001b[43m(\u001b[49m\u001b[43m)\u001b[49m\n",
      "Cell \u001b[0;32mIn[4], line 3\u001b[0m, in \u001b[0;36mexample\u001b[0;34m()\u001b[0m\n\u001b[1;32m      2\u001b[0m \u001b[38;5;28;01mdef\u001b[39;00m \u001b[38;5;21mexample\u001b[39m():\n\u001b[0;32m----> 3\u001b[0m     \u001b[38;5;28;01mreturn\u001b[39;00m \u001b[38;5;241;43m10\u001b[39;49m\u001b[38;5;241;43m/\u001b[39;49m\u001b[38;5;241;43m0\u001b[39;49m\n",
      "\u001b[0;31mZeroDivisionError\u001b[0m: division by zero"
     ]
    }
   ],
   "source": [
    "example()"
   ]
  },
  {
   "cell_type": "code",
   "execution_count": null,
   "id": "3aabba4b-852a-45b1-aa7b-919555423a3c",
   "metadata": {},
   "outputs": [],
   "source": [
    "#with using exection\n",
    "try:\n",
    "    with open(\"text.txt\",\"r\") as f:\n",
    "        f.write()\n",
    "except Exception  as e :\n",
    "    print(\"this is my example\",e)"
   ]
  },
  {
   "cell_type": "code",
   "execution_count": null,
   "id": "d4ad4f0d-c192-4763-aece-310cf266a7dc",
   "metadata": {},
   "outputs": [],
   "source": [
    "\"Q3. Which Python statements are used to catch and handle exceptions? Explain with an example\""
   ]
  },
  {
   "cell_type": "code",
   "execution_count": null,
   "id": "47e94ff7-c41c-4921-a83b-76a9fa6ad0ef",
   "metadata": {},
   "outputs": [],
   "source": [
    "#In Python, the try, except, else, and finally statements are used to catch and handle exceptions.\n",
    "try:\n",
    "    with open(\"text.txt\",\"r\") as f:\n",
    "        f.write()\n",
    "except Exception as e:\n",
    "    print(\"this is my exception\")\n",
    "else:\n",
    "    print(\"this is my else\")\n",
    "finally:\n",
    "    print(\"this is my finally\")\n"
   ]
  },
  {
   "cell_type": "code",
   "execution_count": null,
   "id": "e4fa7859-9ffd-4030-bc95-60962ed3f741",
   "metadata": {},
   "outputs": [],
   "source": [
    "\"Q4. Explain with an example\""
   ]
  },
  {
   "cell_type": "code",
   "execution_count": null,
   "id": "8629f8a4-b5d6-4bc5-b2a3-628bf0a48ff8",
   "metadata": {},
   "outputs": [],
   "source": [
    "# try and else\n",
    "try:\n",
    "    file=open(\"text.txt\",\"r\")\n",
    "    file.write()\n",
    "    \n",
    "except Exception as e:\n",
    "    print(\"this is an error\",e)    \n",
    "else:\n",
    "    print(\"this is else\")"
   ]
  },
  {
   "cell_type": "code",
   "execution_count": 6,
   "id": "46588a27-5cde-4300-8e4c-d45864d7e4f0",
   "metadata": {},
   "outputs": [
    {
     "name": "stdout",
     "output_type": "stream",
     "text": [
      "no matter what is error finally will always print\n"
     ]
    },
    {
     "ename": "FileNotFoundError",
     "evalue": "[Errno 2] No such file or directory: 'text.txt'",
     "output_type": "error",
     "traceback": [
      "\u001b[0;31m---------------------------------------------------------------------------\u001b[0m",
      "\u001b[0;31mFileNotFoundError\u001b[0m                         Traceback (most recent call last)",
      "Cell \u001b[0;32mIn[6], line 3\u001b[0m\n\u001b[1;32m      1\u001b[0m \u001b[38;5;66;03m#finally\u001b[39;00m\n\u001b[1;32m      2\u001b[0m \u001b[38;5;28;01mtry\u001b[39;00m:\n\u001b[0;32m----> 3\u001b[0m     file\u001b[38;5;241m=\u001b[39m\u001b[38;5;28;43mopen\u001b[39;49m\u001b[43m(\u001b[49m\u001b[38;5;124;43m\"\u001b[39;49m\u001b[38;5;124;43mtext.txt\u001b[39;49m\u001b[38;5;124;43m\"\u001b[39;49m\u001b[43m,\u001b[49m\u001b[38;5;124;43m\"\u001b[39;49m\u001b[38;5;124;43mr\u001b[39;49m\u001b[38;5;124;43m\"\u001b[39;49m\u001b[43m)\u001b[49m\n\u001b[1;32m      4\u001b[0m     file\u001b[38;5;241m.\u001b[39mwrite()   \n\u001b[1;32m      5\u001b[0m \u001b[38;5;28;01mfinally\u001b[39;00m:\n",
      "File \u001b[0;32m/opt/conda/lib/python3.10/site-packages/IPython/core/interactiveshell.py:282\u001b[0m, in \u001b[0;36m_modified_open\u001b[0;34m(file, *args, **kwargs)\u001b[0m\n\u001b[1;32m    275\u001b[0m \u001b[38;5;28;01mif\u001b[39;00m file \u001b[38;5;129;01min\u001b[39;00m {\u001b[38;5;241m0\u001b[39m, \u001b[38;5;241m1\u001b[39m, \u001b[38;5;241m2\u001b[39m}:\n\u001b[1;32m    276\u001b[0m     \u001b[38;5;28;01mraise\u001b[39;00m \u001b[38;5;167;01mValueError\u001b[39;00m(\n\u001b[1;32m    277\u001b[0m         \u001b[38;5;124mf\u001b[39m\u001b[38;5;124m\"\u001b[39m\u001b[38;5;124mIPython won\u001b[39m\u001b[38;5;124m'\u001b[39m\u001b[38;5;124mt let you open fd=\u001b[39m\u001b[38;5;132;01m{\u001b[39;00mfile\u001b[38;5;132;01m}\u001b[39;00m\u001b[38;5;124m by default \u001b[39m\u001b[38;5;124m\"\u001b[39m\n\u001b[1;32m    278\u001b[0m         \u001b[38;5;124m\"\u001b[39m\u001b[38;5;124mas it is likely to crash IPython. If you know what you are doing, \u001b[39m\u001b[38;5;124m\"\u001b[39m\n\u001b[1;32m    279\u001b[0m         \u001b[38;5;124m\"\u001b[39m\u001b[38;5;124myou can use builtins\u001b[39m\u001b[38;5;124m'\u001b[39m\u001b[38;5;124m open.\u001b[39m\u001b[38;5;124m\"\u001b[39m\n\u001b[1;32m    280\u001b[0m     )\n\u001b[0;32m--> 282\u001b[0m \u001b[38;5;28;01mreturn\u001b[39;00m \u001b[43mio_open\u001b[49m\u001b[43m(\u001b[49m\u001b[43mfile\u001b[49m\u001b[43m,\u001b[49m\u001b[43m \u001b[49m\u001b[38;5;241;43m*\u001b[39;49m\u001b[43margs\u001b[49m\u001b[43m,\u001b[49m\u001b[43m \u001b[49m\u001b[38;5;241;43m*\u001b[39;49m\u001b[38;5;241;43m*\u001b[39;49m\u001b[43mkwargs\u001b[49m\u001b[43m)\u001b[49m\n",
      "\u001b[0;31mFileNotFoundError\u001b[0m: [Errno 2] No such file or directory: 'text.txt'"
     ]
    }
   ],
   "source": [
    "#finally\n",
    "try:\n",
    "    file=open(\"text.txt\",\"r\")\n",
    "    file.write()   \n",
    "finally:\n",
    "    print(\"no matter what is error finally will always print\")"
   ]
  },
  {
   "cell_type": "code",
   "execution_count": 7,
   "id": "0413ffab-2cf9-4086-94b4-af120e34d380",
   "metadata": {},
   "outputs": [],
   "source": [
    "#raise\n",
    "class validincome(Exception):\n",
    "     def __init__(self,msg):\n",
    "        self.msg=msg"
   ]
  },
  {
   "cell_type": "code",
   "execution_count": 8,
   "id": "3a9c2dfa-b64c-4312-85e3-8cb307dd3964",
   "metadata": {},
   "outputs": [],
   "source": [
    "def valid(income):\n",
    "    if income<0:\n",
    "        raise validincome(\" income can not be negative\")\n",
    "    elif income>1000000:\n",
    "        raise validincome(\"too high income\")\n",
    "    else:\n",
    "        print(\"income is acceptable\")"
   ]
  },
  {
   "cell_type": "code",
   "execution_count": 13,
   "id": "194db81a-b356-457b-ae07-ff0ae0201497",
   "metadata": {},
   "outputs": [
    {
     "name": "stdin",
     "output_type": "stream",
     "text": [
      "enter your income 5000\n"
     ]
    },
    {
     "name": "stdout",
     "output_type": "stream",
     "text": [
      "income is acceptable\n"
     ]
    }
   ],
   "source": [
    "try:\n",
    "    income=int(input(\"enter your income\"))\n",
    "    valid(income)\n",
    "except validincome as e:\n",
    "    print(e)  "
   ]
  },
  {
   "cell_type": "code",
   "execution_count": 14,
   "id": "c57f40b9-e12a-4f19-af1f-c065ca0f89c7",
   "metadata": {},
   "outputs": [
    {
     "data": {
      "text/plain": [
       "'Q5. What are Custom Exceptions in python? Why do we need Custom Exceptions? Explain with an example'"
      ]
     },
     "execution_count": 14,
     "metadata": {},
     "output_type": "execute_result"
    }
   ],
   "source": [
    "\"Q5. What are Custom Exceptions in python? Why do we need Custom Exceptions? Explain with an example\""
   ]
  },
  {
   "cell_type": "code",
   "execution_count": 15,
   "id": "38a62641-7c37-4f98-bc6a-b764ded767ef",
   "metadata": {},
   "outputs": [],
   "source": [
    "#Custom exceptions in Python refer to user-defined exceptions that extend the built-in Exception class or one of its subclasses. While Python provides a variety of built-in exceptions to handle common error cases, there are situations where it's beneficial to create your own exceptions tailored to specific scenarios in your application."
   ]
  },
  {
   "cell_type": "code",
   "execution_count": 16,
   "id": "0b81b8fc-4a87-4328-8184-25e71a9ea300",
   "metadata": {},
   "outputs": [],
   "source": [
    "#example\n",
    "class newexection(Exception):\n",
    "    def __init__(self,msg):\n",
    "        self.msg=msg"
   ]
  },
  {
   "cell_type": "code",
   "execution_count": 17,
   "id": "ebaa2258-5e15-424c-bb2f-05b3cb0dc97c",
   "metadata": {},
   "outputs": [],
   "source": [
    "def newex(weight):\n",
    "    if weight > 70:\n",
    "        raise newexection(\"need gym and balance diet\")\n",
    "    elif weight < 50:\n",
    "        raise newexection(\"need more vitamin and protine\")\n",
    "    else:\n",
    "        print(\"perfect\")  "
   ]
  },
  {
   "cell_type": "code",
   "execution_count": 18,
   "id": "6d8f1625-d95f-4a7c-9e55-09cde31bd8a3",
   "metadata": {},
   "outputs": [
    {
     "name": "stdin",
     "output_type": "stream",
     "text": [
      "enter your weight 59\n"
     ]
    },
    {
     "name": "stdout",
     "output_type": "stream",
     "text": [
      "perfect\n"
     ]
    }
   ],
   "source": [
    "try:\n",
    "    weight=int(input(\"enter your weight\"))\n",
    "    newex(weight)\n",
    "except newexection as e:\n",
    "    print(e)"
   ]
  },
  {
   "cell_type": "code",
   "execution_count": 19,
   "id": "1f779f96-8002-460f-a71a-4894464152c3",
   "metadata": {},
   "outputs": [
    {
     "data": {
      "text/plain": [
       "'Q6. Create a custom exception class. Use this class to handle an exception.'"
      ]
     },
     "execution_count": 19,
     "metadata": {},
     "output_type": "execute_result"
    }
   ],
   "source": [
    "\"Q6. Create a custom exception class. Use this class to handle an exception.\""
   ]
  },
  {
   "cell_type": "code",
   "execution_count": 21,
   "id": "ceaf4d14-29e5-4e89-acc6-21dbba808920",
   "metadata": {},
   "outputs": [],
   "source": [
    "class customex(Exception):\n",
    "    def __init__(self,msg):\n",
    "        self.msg=msg"
   ]
  },
  {
   "cell_type": "code",
   "execution_count": 23,
   "id": "6698db13-50e5-4a20-bede-4efd7c155c24",
   "metadata": {},
   "outputs": [],
   "source": [
    "def customfuction(price):\n",
    "    if price >5000:\n",
    "        raise customex(\"i will not buy this\")\n",
    "    elif price < 1000:\n",
    "        raise customex (\"product can be cheap\")\n",
    "    else:\n",
    "        print(\"budget friendly\")"
   ]
  },
  {
   "cell_type": "code",
   "execution_count": null,
   "id": "e604b4b5-e283-46b9-8a06-89be9d82b659",
   "metadata": {},
   "outputs": [],
   "source": [
    "try:\n",
    "    "
   ]
  }
 ],
 "metadata": {
  "kernelspec": {
   "display_name": "Python 3 (ipykernel)",
   "language": "python",
   "name": "python3"
  },
  "language_info": {
   "codemirror_mode": {
    "name": "ipython",
    "version": 3
   },
   "file_extension": ".py",
   "mimetype": "text/x-python",
   "name": "python",
   "nbconvert_exporter": "python",
   "pygments_lexer": "ipython3",
   "version": "3.10.8"
  }
 },
 "nbformat": 4,
 "nbformat_minor": 5
}
